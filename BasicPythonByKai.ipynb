{
  "nbformat": 4,
  "nbformat_minor": 0,
  "metadata": {
    "colab": {
      "name": "BasicPythonByKai.ipynb",
      "provenance": [],
      "collapsed_sections": [
        "HVvJh7n8wBTF",
        "Z4hVBPeDw_ZA",
        "OxaK5P6JU61F",
        "z38mjjLMQ394",
        "vyqfNC8KSy_s",
        "zNDUfIj7TYVg",
        "K5r0DU5OFXto",
        "bRGPp8RuT9qa",
        "xJkAySYOPWCy",
        "E11UJmioE69X",
        "pBu-ug9YUtmW",
        "Y6rUxdtHcCly",
        "FWyJjc9cdfPe",
        "_z8SBfzpd0Dt",
        "bOquj93mYNS-",
        "p53DHsM0hqgo",
        "zXTYkqwyYmxo",
        "MZd5YiGdZAxe",
        "pcjsRDSTZ75G",
        "3RVy8kpemhg5",
        "dTJ6Rl3fPgUN",
        "MGG-muKq4Kuw",
        "4jSnuXgAaAWU",
        "eMqp3uCPB5Qc",
        "2ENOiOwcDu89",
        "Y8gDFzHJ9Lrj",
        "vNag_GikZ0C8",
        "QppwLLP1OVii",
        "UzBHrHOKPZLw",
        "eJgoi80TPn-_",
        "8C4nVN5ZcNaG",
        "2B-B5CBudDQt",
        "Ku4z-o6uUN9S",
        "LZ3jkLQCUj2P",
        "xKYTC9t-Y4Ck",
        "hVIba5EmWOAo",
        "ac5XWAzGW1Xt",
        "NWZmHf18ZILX",
        "hYGOKp7_Xjeo",
        "fAU-yXsHYhns",
        "9NEC5DP6ZcvL",
        "jGPMOUc6aP6E",
        "ECIcxRh5kxQu",
        "JD51M2Lmqztc",
        "58LitzZXrkvp",
        "wetLf8kusCBS",
        "VP1UNc98tS6E",
        "7etsP15NtjCO",
        "rzr1u4SCs1o-",
        "4NCFR4rZv167",
        "LZUB9zJPxt-C",
        "F8PEVGDnktNu",
        "q7EJZ4JmZt9t",
        "4iUYkAds0JxH",
        "JSyGOFcP0gCk",
        "YWJpz9MT1HH_",
        "HgV5EMg72ny7",
        "iT237KhS3DvL",
        "nCC6guBn3aWX",
        "-Fnt5aQV3vpb",
        "_sfAI4vL4Kr1",
        "0ZAZbrrn4fNN",
        "WBB4DgAS5eJ0",
        "7Q7z2WXj6IFZ",
        "hmL6Z0nT4jWv",
        "lPoLASJNPtkM",
        "RcK9DtOPQR08",
        "d5q65CsV6WdX",
        "l17QMtTP8vgH",
        "7nanWeNq9Cke",
        "5Uy57aXEA1WC",
        "4_gTfvFYEYox",
        "p-t9ndlaFTo_",
        "5NwSZR2BF8az",
        "5irU5OFpDDar",
        "34a0i4_3Ga_X",
        "Lfll2meqHPq7",
        "eM-LAvZJHz-i",
        "Ak2zkZILd4BS"
      ],
      "include_colab_link": true
    },
    "kernelspec": {
      "name": "python3",
      "display_name": "Python 3"
    }
  },
  "cells": [
    {
      "cell_type": "markdown",
      "metadata": {
        "id": "view-in-github",
        "colab_type": "text"
      },
      "source": [
        "<a href=\"https://colab.research.google.com/github/Stitchkoh/Opensourcefordatascience/blob/master/BasicPythonByKai.ipynb\" target=\"_parent\"><img src=\"https://colab.research.google.com/assets/colab-badge.svg\" alt=\"Open In Colab\"/></a>"
      ]
    },
    {
      "cell_type": "markdown",
      "metadata": {
        "id": "HVvJh7n8wBTF"
      },
      "source": [
        "\n",
        "#Introduction to Python \n"
      ]
    },
    {
      "cell_type": "markdown",
      "metadata": {
        "id": "Z4hVBPeDw_ZA"
      },
      "source": [
        "##เนื้อหา\n",
        "\n",
        "\n",
        "*   Introduction to Python language\n",
        "*   Print\n",
        "*   Variables\n",
        "*   Numbers\n",
        "*   Arithmetic operators\n",
        "*   Strings\n",
        "*   Boolean\n",
        "*   Loop\n",
        "*   if\n",
        "*   List\n",
        "*   Tuple\n",
        "*   Dictionary\n",
        "*   Set\n",
        "\n",
        "\n",
        "\n",
        "\n",
        "\n",
        "\n",
        "\n"
      ]
    },
    {
      "cell_type": "markdown",
      "metadata": {
        "id": "OxaK5P6JU61F"
      },
      "source": [
        "##ภาษา Python\n",
        "*  ผู้สร้างคือ Guido van Rossum เปิดดัวครั้งแรกในปี 1991\n",
        "\n",
        "![alt text](https://pbs.twimg.com/profile_images/424495004/GuidoAvatar_400x400.jpg)\n",
        "\n",
        "\n",
        "* เป็นภาษาในรูปแบบ Interpreted\n",
        "* ภาษาโปรแกรมยอดนิยมสำหรับงานด้านวิทยาการข้อมูล (Data Science) และปัญญาประดิษฐ์ (Artificial Intelligence: AI)\n",
        "*  เหมาะสำหรับผู้ที่เริ่มต้นเขียนโปรแกรม เพราะมีกฎเกณฑ์ของภาษาที่ไม่ซับซ้อน\n",
        "* Version ปัจจุบันของ Python คือ version 3"
      ]
    },
    {
      "cell_type": "markdown",
      "metadata": {
        "id": "z38mjjLMQ394"
      },
      "source": [
        "##Why Python ?\n",
        "- เป็นภาษาที่เขียนได้ง่าย เข้าใจง่าย\n",
        "- ยืดหยุ่น ไม่มีข้อจำกัดมากนัก\n",
        "- มีคนเขียน library มาสนับสนุนมากมาย\n",
        "- มีผู้ใช้, มีชุมชน และผู้สนับสนุนมากมาย"
      ]
    },
    {
      "cell_type": "markdown",
      "metadata": {
        "id": "vyqfNC8KSy_s"
      },
      "source": [
        "### คำสั่ง `print`\n",
        "\n",
        "- คำสั่งพิมพ์ข้อความออกมาที่หน้าจอในภาษา Python คือ `print`\n",
        "- คำสั่ง `print()` โดยข้างในวงเล็บ เป็นค่าที่พิมพ์ออกมา\n",
        "\n",
        "\n"
      ]
    },
    {
      "cell_type": "code",
      "metadata": {
        "id": "Dyn7PxXzTB2s",
        "colab": {
          "base_uri": "https://localhost:8080/"
        },
        "outputId": "40227d4c-8c30-4aa3-8842-67e83b54e409"
      },
      "source": [
        "print(5)"
      ],
      "execution_count": 1,
      "outputs": [
        {
          "output_type": "stream",
          "text": [
            "5\n"
          ],
          "name": "stdout"
        }
      ]
    },
    {
      "cell_type": "code",
      "metadata": {
        "id": "kmizMAMejQe4"
      },
      "source": [
        ""
      ],
      "execution_count": null,
      "outputs": []
    },
    {
      "cell_type": "code",
      "metadata": {
        "id": "Ecssz6slJats",
        "colab": {
          "base_uri": "https://localhost:8080/"
        },
        "outputId": "44e119ec-4c78-4874-c14f-56030d208156"
      },
      "source": [
        "print(8.9)"
      ],
      "execution_count": 2,
      "outputs": [
        {
          "output_type": "stream",
          "text": [
            "8.9\n"
          ],
          "name": "stdout"
        }
      ]
    },
    {
      "cell_type": "code",
      "metadata": {
        "id": "DZD3XJbJJbB8",
        "colab": {
          "base_uri": "https://localhost:8080/"
        },
        "outputId": "fb4c29fc-cd2b-446d-e41a-7c567a0b71c8"
      },
      "source": [
        "print(3+9)"
      ],
      "execution_count": 3,
      "outputs": [
        {
          "output_type": "stream",
          "text": [
            "12\n"
          ],
          "name": "stdout"
        }
      ]
    },
    {
      "cell_type": "code",
      "metadata": {
        "id": "v17XXsIKJvke",
        "colab": {
          "base_uri": "https://localhost:8080/"
        },
        "outputId": "3e8da3ef-0228-4439-97c6-e053cedeb686"
      },
      "source": [
        "print(\"python\")"
      ],
      "execution_count": 4,
      "outputs": [
        {
          "output_type": "stream",
          "text": [
            "python\n"
          ],
          "name": "stdout"
        }
      ]
    },
    {
      "cell_type": "code",
      "metadata": {
        "id": "NgOVXUOHJ09-",
        "colab": {
          "base_uri": "https://localhost:8080/"
        },
        "outputId": "3e616d75-be07-4df2-e33a-0f069b2d8e17"
      },
      "source": [
        "print('python')"
      ],
      "execution_count": 5,
      "outputs": [
        {
          "output_type": "stream",
          "text": [
            "python\n"
          ],
          "name": "stdout"
        }
      ]
    },
    {
      "cell_type": "code",
      "metadata": {
        "id": "fNncpEA0M7wy",
        "colab": {
          "base_uri": "https://localhost:8080/"
        },
        "outputId": "641fbb79-998c-4d55-f4ca-aa5fd607dd6b"
      },
      "source": [
        "print(9-5)\n",
        "print(\"surasak\")\n",
        "print('phutthapol')"
      ],
      "execution_count": 6,
      "outputs": [
        {
          "output_type": "stream",
          "text": [
            "4\n",
            "surasak\n",
            "phutthapol\n"
          ],
          "name": "stdout"
        }
      ]
    },
    {
      "cell_type": "code",
      "metadata": {
        "id": "xKO2TEBkGlrD",
        "colab": {
          "base_uri": "https://localhost:8080/"
        },
        "outputId": "2ca7db15-d400-4d4e-ad5d-c8aa53a68236"
      },
      "source": [
        "print(\"\\\"Hello\\\"\")"
      ],
      "execution_count": 7,
      "outputs": [
        {
          "output_type": "stream",
          "text": [
            "\"Hello\"\n"
          ],
          "name": "stdout"
        }
      ]
    },
    {
      "cell_type": "markdown",
      "metadata": {
        "id": "zNDUfIj7TYVg"
      },
      "source": [
        "### Excercise \n",
        "\n",
        "ให้พิมพ์สามบรรทัด <br>\n",
        "บรรทัดแรกคือ พิมพ์ชื่อของเรา โดยใช้  \" \"<br>\n",
        "บรรทัดสอง พิมพ์นามสกุลของเรา โดยใช้  ' '<br>\n",
        "บรรทัดที่สาม พิมพ์อายุของเรา<br>"
      ]
    },
    {
      "cell_type": "code",
      "metadata": {
        "id": "a1fYx97cTpIm",
        "colab": {
          "base_uri": "https://localhost:8080/"
        },
        "outputId": "2a297791-e0a0-423a-82fe-850af48864d7"
      },
      "source": [
        "print(\"surasak\")"
      ],
      "execution_count": 8,
      "outputs": [
        {
          "output_type": "stream",
          "text": [
            "surasak\n"
          ],
          "name": "stdout"
        }
      ]
    },
    {
      "cell_type": "code",
      "metadata": {
        "id": "qzebG-8NKQ62",
        "colab": {
          "base_uri": "https://localhost:8080/"
        },
        "outputId": "0a76920f-e71d-4e23-fa52-9a920d72cfe4"
      },
      "source": [
        "print('phutthapol')"
      ],
      "execution_count": 9,
      "outputs": [
        {
          "output_type": "stream",
          "text": [
            "phutthapol\n"
          ],
          "name": "stdout"
        }
      ]
    },
    {
      "cell_type": "code",
      "metadata": {
        "id": "TQg-jRtIKRlQ",
        "colab": {
          "base_uri": "https://localhost:8080/"
        },
        "outputId": "23e1193d-45db-44ac-dd2e-0b737694cd6b"
      },
      "source": [
        "print(25)"
      ],
      "execution_count": 10,
      "outputs": [
        {
          "output_type": "stream",
          "text": [
            "25\n"
          ],
          "name": "stdout"
        }
      ]
    },
    {
      "cell_type": "markdown",
      "metadata": {
        "id": "K5r0DU5OFXto"
      },
      "source": [
        "## เพิ่มเติม สำหรับการนำค่าออกมาดูจาก cell เลยโดยไม่ผ่านคำสั่ง print"
      ]
    },
    {
      "cell_type": "code",
      "metadata": {
        "id": "M3zP_KYDFjP-",
        "colab": {
          "base_uri": "https://localhost:8080/"
        },
        "outputId": "300150a4-2bb2-4299-fa06-cb3b6106dea7"
      },
      "source": [
        "print(20)"
      ],
      "execution_count": 11,
      "outputs": [
        {
          "output_type": "stream",
          "text": [
            "20\n"
          ],
          "name": "stdout"
        }
      ]
    },
    {
      "cell_type": "code",
      "metadata": {
        "id": "kljM7lcbFmbw",
        "colab": {
          "base_uri": "https://localhost:8080/"
        },
        "outputId": "10954ad2-a277-477b-bbb0-b750ebe0d857"
      },
      "source": [
        "20"
      ],
      "execution_count": 12,
      "outputs": [
        {
          "output_type": "execute_result",
          "data": {
            "text/plain": [
              "20"
            ]
          },
          "metadata": {
            "tags": []
          },
          "execution_count": 12
        }
      ]
    },
    {
      "cell_type": "code",
      "metadata": {
        "id": "DmPjkNnXFoQs",
        "colab": {
          "base_uri": "https://localhost:8080/"
        },
        "outputId": "376f6c4e-bab1-43c4-8da9-f58092c31534"
      },
      "source": [
        "print(\"liza\")"
      ],
      "execution_count": 13,
      "outputs": [
        {
          "output_type": "stream",
          "text": [
            "liza\n"
          ],
          "name": "stdout"
        }
      ]
    },
    {
      "cell_type": "code",
      "metadata": {
        "id": "GPAW7HhCFwJZ",
        "colab": {
          "base_uri": "https://localhost:8080/",
          "height": 34
        },
        "outputId": "e83ead58-9fcd-46c8-caf7-860a9b6f67e3"
      },
      "source": [
        "\"liza\""
      ],
      "execution_count": 14,
      "outputs": [
        {
          "output_type": "execute_result",
          "data": {
            "application/vnd.google.colaboratory.intrinsic+json": {
              "type": "string"
            },
            "text/plain": [
              "'liza'"
            ]
          },
          "metadata": {
            "tags": []
          },
          "execution_count": 14
        }
      ]
    },
    {
      "cell_type": "markdown",
      "metadata": {
        "id": "bRGPp8RuT9qa"
      },
      "source": [
        "###Comment\n",
        "\n",
        "คือ หมายเหตุ<br>\n",
        "`#` (แฮช หรือ hash) นำหน้าหมายเหตุ\n"
      ]
    },
    {
      "cell_type": "code",
      "metadata": {
        "id": "j7kvF1GLUc1L",
        "colab": {
          "base_uri": "https://localhost:8080/"
        },
        "outputId": "42d2af2c-692e-4b4b-cbf4-4d155dfe1c05"
      },
      "source": [
        "print(\"Mr. \")   #print mr to display\n",
        "print('Somchai')\n",
        "#print(\"Kemklad\")\n",
        "print(25)\n",
        "print('years old')  #ตัวแปรหมายถึง  ถังเก็บข้อมูล  "
      ],
      "execution_count": 16,
      "outputs": [
        {
          "output_type": "stream",
          "text": [
            "Mr. \n",
            "Somchai\n",
            "25\n",
            "years old\n"
          ],
          "name": "stdout"
        }
      ]
    },
    {
      "cell_type": "markdown",
      "metadata": {
        "id": "xJkAySYOPWCy"
      },
      "source": [
        "### ตัวแปร Variable\n",
        "ตัวอย่าง<br>\n",
        "a = 10<br>\n",
        "b = 'surasak'<br>\n",
        "Test = 'this'<br>\n",
        "test = 'that'<br>\n",
        "_led2 = 'red'<br>\n",
        "Te st = 'those'>>>>> ตั้งแบบนี้ไม่ได้<br>\n",
        "if = 23 >>>>> ตั้งแบบนี้ไม่ได้<br>\n",
        "2led = 'green' >>>>> ตั้งแบบนี้ไม่ได้<br> <br>\n",
        "\n",
        "\n",
        "กฎการตั้งชื่อ ตัวแปร <br>\n",
        "- ตัวอักษรตัวแรก เป็น ตัวอักษรพิมพ์เล็ก หรือ พิมพ์ใหญ่ หรือ _<br>\n",
        "- ตัวอักษรตัวถัดมา เป็น ตัวอักษร พิมพ์เล็ก หรือ พิมพ์ใหญ่ หรือ _ หรือตัวเลข<br>\n",
        "- ตัวอักษรตัวใหญ่ หรือ ตัวเล็ก ถือว่าเป็นคนละตัวกัน (case sensitive)<br>\n",
        "- ห้ามมีช่องว่างระหว่างตัวอักษรในตัวแปร<br>\n",
        "- ห้ามใช้คำพิเศษเป็นตัวอักษรในตัวแปร เช่น !,@, #, $, %, ^, &, *, (, ), -, =, \\, |, +, ~ เป็นต้น <br>\n",
        "- ห้ามตั้งชื่อตรงกับคำสงวน<br>\n",
        "\n",
        "\n",
        "and\tdel\tfrom\tnot\twhile\tas\telif\n",
        "global\tor\twith\tassert\telse\tif\tpass\n",
        "yield\tbreak\texcept\timport\t<br>print\tclass\texec\n",
        "in\traise\tcontinue\tfinally\tis\treturn\tdef\n",
        "for\tlambda\ttry\n",
        "\n",
        "\n",
        "\n",
        "\n",
        "\n",
        "\n"
      ]
    },
    {
      "cell_type": "code",
      "metadata": {
        "id": "LrqnwIAFPZU5"
      },
      "source": [
        "name = \"kai\"  # Naming must to be meaning"
      ],
      "execution_count": 17,
      "outputs": []
    },
    {
      "cell_type": "markdown",
      "metadata": {
        "id": "E11UJmioE69X"
      },
      "source": [
        "### Excercise ให้ตั้งตัวแปลชื่อว่า number1 แล้วให้เก็บเลข 9 แล้วนำค่าจาก number1 มาแสดงผลออกหน้าจอ"
      ]
    },
    {
      "cell_type": "code",
      "metadata": {
        "id": "WysM5cBCE5sA"
      },
      "source": [
        "number1 = 9"
      ],
      "execution_count": 18,
      "outputs": []
    },
    {
      "cell_type": "code",
      "metadata": {
        "id": "YPGerojlFSqy",
        "colab": {
          "base_uri": "https://localhost:8080/"
        },
        "outputId": "94513c42-2f5d-4ad5-a165-1304096e19ad"
      },
      "source": [
        "print(number1)"
      ],
      "execution_count": 19,
      "outputs": [
        {
          "output_type": "stream",
          "text": [
            "9\n"
          ],
          "name": "stdout"
        }
      ]
    },
    {
      "cell_type": "code",
      "metadata": {
        "id": "lDZ-8g3Vice4"
      },
      "source": [
        "number1"
      ],
      "execution_count": null,
      "outputs": []
    },
    {
      "cell_type": "markdown",
      "metadata": {
        "id": "pBu-ug9YUtmW"
      },
      "source": [
        "## ชนิดของข้อมูล\n",
        "- Number &nbsp; &nbsp; &nbsp;  a = 1<br>\n",
        "- String  &nbsp; &nbsp; &nbsp; &nbsp; &nbsp; b = \"Hello\"<br>\n",
        "- Boolean &nbsp; &nbsp; &nbsp; c = True\n",
        "- List  &nbsp; &nbsp; &nbsp; &nbsp; &nbsp; &nbsp; &nbsp;    d = [1,2,3,4]\n",
        "- Tuple &nbsp; &nbsp; &nbsp; &nbsp; &nbsp; &nbsp;   e = (1,2,3,4)\n",
        "- Dictionary &nbsp; &nbsp; f = {\"a\":1,\"b\":2,\"c\":3}\n",
        "- Set &nbsp; &nbsp; &nbsp; &nbsp; &nbsp; &nbsp; &nbsp; &nbsp; g = {1,2,3,4}\n",
        "\n"
      ]
    },
    {
      "cell_type": "markdown",
      "metadata": {
        "id": "Y6rUxdtHcCly"
      },
      "source": [
        "## การเช็คชนิดของข้อมูล\n",
        "#type(variable)<br>\n",
        "Example A = 1<br>\n",
        "print(type(A))  >> integer"
      ]
    },
    {
      "cell_type": "markdown",
      "metadata": {
        "id": "FWyJjc9cdfPe"
      },
      "source": [
        "## ตัวแปร variable ของ python เป็นแบบ dynamic type\n",
        "Example A = 10<br>\n",
        "print(type(A))  >> integer <br>\n",
        "A = 'Hello'<br>\n",
        "print(type(A))  >> string <br>"
      ]
    },
    {
      "cell_type": "markdown",
      "metadata": {
        "id": "_z8SBfzpd0Dt"
      },
      "source": [
        "## ชนิดของข้อมูล \n",
        "#1.Number\n",
        "1.1 Integer<br>\n",
        "a = 10<br>\n",
        "1.2 Floating<br>\n",
        "b = 3.14<br>\n",
        "1.3 Complex Number<br>\n",
        "c = 1+2j\n"
      ]
    },
    {
      "cell_type": "markdown",
      "metadata": {
        "id": "bOquj93mYNS-"
      },
      "source": [
        "### Number Operations\n",
        "`+`&nbsp;&nbsp; บวก <br>\n",
        "`-`&nbsp;&nbsp; ลบ <br>\n",
        "`*`&nbsp;&nbsp; คูณ <br>\n",
        "`/`&nbsp;&nbsp; หาร <br>\n",
        "`%` &nbsp;&nbsp;หารเอาเศษ <br>\n",
        "`//`&nbsp; หารเอาส่วน <br>\n",
        "`**` &nbsp;&nbsp;ยกกำลัง <br>\n",
        "\n",
        "\n"
      ]
    },
    {
      "cell_type": "code",
      "metadata": {
        "id": "lKzJDw4QgqMV"
      },
      "source": [
        "a = 5"
      ],
      "execution_count": 20,
      "outputs": []
    },
    {
      "cell_type": "code",
      "metadata": {
        "id": "R-gxEFg-gy8D"
      },
      "source": [
        "b = 2"
      ],
      "execution_count": 21,
      "outputs": []
    },
    {
      "cell_type": "code",
      "metadata": {
        "id": "3xuUdmkVGMYB",
        "colab": {
          "base_uri": "https://localhost:8080/"
        },
        "outputId": "97888f61-5aab-43eb-f330-1675d0c1d70d"
      },
      "source": [
        "a + b"
      ],
      "execution_count": 22,
      "outputs": [
        {
          "output_type": "execute_result",
          "data": {
            "text/plain": [
              "7"
            ]
          },
          "metadata": {
            "tags": []
          },
          "execution_count": 22
        }
      ]
    },
    {
      "cell_type": "code",
      "metadata": {
        "id": "O2ORS1Udg4bH",
        "colab": {
          "base_uri": "https://localhost:8080/"
        },
        "outputId": "d97717d8-239d-43d3-9389-4ccd086e3895"
      },
      "source": [
        "a - b"
      ],
      "execution_count": 23,
      "outputs": [
        {
          "output_type": "execute_result",
          "data": {
            "text/plain": [
              "3"
            ]
          },
          "metadata": {
            "tags": []
          },
          "execution_count": 23
        }
      ]
    },
    {
      "cell_type": "code",
      "metadata": {
        "id": "kj27q1FTg6pg",
        "colab": {
          "base_uri": "https://localhost:8080/"
        },
        "outputId": "54288bce-5178-46dc-8506-7d8497f182f3"
      },
      "source": [
        "a * b"
      ],
      "execution_count": 24,
      "outputs": [
        {
          "output_type": "execute_result",
          "data": {
            "text/plain": [
              "10"
            ]
          },
          "metadata": {
            "tags": []
          },
          "execution_count": 24
        }
      ]
    },
    {
      "cell_type": "code",
      "metadata": {
        "id": "ZxBENX9vg-yV",
        "colab": {
          "base_uri": "https://localhost:8080/"
        },
        "outputId": "1f370470-6651-4a4f-e939-790f1f61dcbf"
      },
      "source": [
        "a / b"
      ],
      "execution_count": 25,
      "outputs": [
        {
          "output_type": "execute_result",
          "data": {
            "text/plain": [
              "2.5"
            ]
          },
          "metadata": {
            "tags": []
          },
          "execution_count": 25
        }
      ]
    },
    {
      "cell_type": "code",
      "metadata": {
        "id": "FdxyHytKhBx-",
        "colab": {
          "base_uri": "https://localhost:8080/"
        },
        "outputId": "aae28c3d-b092-488d-b46b-5e498e90668e"
      },
      "source": [
        "a % b"
      ],
      "execution_count": 26,
      "outputs": [
        {
          "output_type": "execute_result",
          "data": {
            "text/plain": [
              "1"
            ]
          },
          "metadata": {
            "tags": []
          },
          "execution_count": 26
        }
      ]
    },
    {
      "cell_type": "code",
      "metadata": {
        "id": "Xke4pVJ7hE8w",
        "colab": {
          "base_uri": "https://localhost:8080/"
        },
        "outputId": "51e4f237-cd02-4e47-bf75-d6a62ce4ad1f"
      },
      "source": [
        "a//b"
      ],
      "execution_count": 27,
      "outputs": [
        {
          "output_type": "execute_result",
          "data": {
            "text/plain": [
              "2"
            ]
          },
          "metadata": {
            "tags": []
          },
          "execution_count": 27
        }
      ]
    },
    {
      "cell_type": "code",
      "metadata": {
        "id": "wYmMc39mhNQf",
        "colab": {
          "base_uri": "https://localhost:8080/"
        },
        "outputId": "978727ff-b918-42a6-8e76-6301aa1a1182"
      },
      "source": [
        "a**b"
      ],
      "execution_count": 28,
      "outputs": [
        {
          "output_type": "execute_result",
          "data": {
            "text/plain": [
              "25"
            ]
          },
          "metadata": {
            "tags": []
          },
          "execution_count": 28
        }
      ]
    },
    {
      "cell_type": "code",
      "metadata": {
        "id": "4PCqtRfmYmCN",
        "colab": {
          "base_uri": "https://localhost:8080/"
        },
        "outputId": "93bb52a3-d917-4493-935c-a4dac12575fa"
      },
      "source": [
        "4 * 2 "
      ],
      "execution_count": 29,
      "outputs": [
        {
          "output_type": "execute_result",
          "data": {
            "text/plain": [
              "8"
            ]
          },
          "metadata": {
            "tags": []
          },
          "execution_count": 29
        }
      ]
    },
    {
      "cell_type": "code",
      "metadata": {
        "id": "plTUuxDegp7H",
        "colab": {
          "base_uri": "https://localhost:8080/"
        },
        "outputId": "19ea6873-e744-4858-e2f0-aae17841516c"
      },
      "source": [
        "4 + 2 * 10"
      ],
      "execution_count": 30,
      "outputs": [
        {
          "output_type": "execute_result",
          "data": {
            "text/plain": [
              "24"
            ]
          },
          "metadata": {
            "tags": []
          },
          "execution_count": 30
        }
      ]
    },
    {
      "cell_type": "markdown",
      "metadata": {
        "id": "p53DHsM0hqgo"
      },
      "source": [
        "###Math Operator Sequence\n",
        "##1. ทำเครื่องหมายวงเล็บก่อน ( )<br>\n",
        "##2. ทำเครื่องหมายยกกำลัง&nbsp;&nbsp;&nbsp;&nbsp; **<br>\n",
        "##3. ทำคูณ หรือ หาร &nbsp;&nbsp;&nbsp;&nbsp;&nbsp;&nbsp;&nbsp;&nbsp;&nbsp;&nbsp;&nbsp;&nbsp;&nbsp;&nbsp;&nbsp;&nbsp;*  /<br>\n",
        "##4. ทำบวก หรือ ลบ &nbsp;&nbsp;&nbsp;&nbsp;&nbsp;&nbsp;&nbsp;&nbsp;&nbsp;&nbsp;&nbsp;&nbsp;&nbsp;&nbsp;&nbsp;&nbsp;+ -<br>"
      ]
    },
    {
      "cell_type": "markdown",
      "metadata": {
        "id": "zXTYkqwyYmxo"
      },
      "source": [
        "###ถ้าเราเขียนโปรแกรมเพื่อคำนวณค่าของ $ 10 + \\frac{5}{2} $ "
      ]
    },
    {
      "cell_type": "code",
      "metadata": {
        "id": "n24VdVqLYy-k",
        "colab": {
          "base_uri": "https://localhost:8080/"
        },
        "outputId": "7ecf7146-c554-4287-df19-1f99dcfe0308"
      },
      "source": [
        "10 + 5/2"
      ],
      "execution_count": 31,
      "outputs": [
        {
          "output_type": "execute_result",
          "data": {
            "text/plain": [
              "12.5"
            ]
          },
          "metadata": {
            "tags": []
          },
          "execution_count": 31
        }
      ]
    },
    {
      "cell_type": "markdown",
      "metadata": {
        "id": "MZd5YiGdZAxe"
      },
      "source": [
        "### Excercise\n",
        "\n",
        "จงคำนวนผลลัพธ์ตามโจทย์ที่ให้มาดังนี้\n",
        "\n",
        "$ \\frac{4}{7} + \\frac{3}{7} $"
      ]
    },
    {
      "cell_type": "code",
      "metadata": {
        "id": "UjfSKS-oZJNi",
        "colab": {
          "base_uri": "https://localhost:8080/"
        },
        "outputId": "cc031265-e1da-4640-d2a4-4d63dd5c3608"
      },
      "source": [
        "4/7 + 3/7"
      ],
      "execution_count": 32,
      "outputs": [
        {
          "output_type": "execute_result",
          "data": {
            "text/plain": [
              "1.0"
            ]
          },
          "metadata": {
            "tags": []
          },
          "execution_count": 32
        }
      ]
    },
    {
      "cell_type": "markdown",
      "metadata": {
        "id": "JO4v_qGrZKTZ"
      },
      "source": [
        "$ 2 + 8 \\times 4 - 5 $"
      ]
    },
    {
      "cell_type": "code",
      "metadata": {
        "id": "6rN1nd1iZOqG",
        "colab": {
          "base_uri": "https://localhost:8080/"
        },
        "outputId": "c19d4b56-27e7-4f52-e57a-d9bd42f43489"
      },
      "source": [
        "2+8*4-5"
      ],
      "execution_count": 33,
      "outputs": [
        {
          "output_type": "execute_result",
          "data": {
            "text/plain": [
              "29"
            ]
          },
          "metadata": {
            "tags": []
          },
          "execution_count": 33
        }
      ]
    },
    {
      "cell_type": "markdown",
      "metadata": {
        "id": "31CX2cV6ZPKZ"
      },
      "source": [
        "$ 3 \\times 8 + 4 \\times 2 - \\frac{3}{5} $"
      ]
    },
    {
      "cell_type": "code",
      "metadata": {
        "id": "WQkuG8MbZTiw",
        "colab": {
          "base_uri": "https://localhost:8080/"
        },
        "outputId": "d6c003e5-96b9-45df-db9b-ebbb708acbc6"
      },
      "source": [
        "3*8+4*2-3/5"
      ],
      "execution_count": 34,
      "outputs": [
        {
          "output_type": "execute_result",
          "data": {
            "text/plain": [
              "31.4"
            ]
          },
          "metadata": {
            "tags": []
          },
          "execution_count": 34
        }
      ]
    },
    {
      "cell_type": "markdown",
      "metadata": {
        "id": "kFPQF1G4Zmqy"
      },
      "source": [
        "- **หมายเหตุ:** เครื่องหมายวงเล็บมีหน้าที่เปลี่ยนลำดับการทำงาน โดยจะเริ่มทำในวงเล็บก่อนเสมอ \n",
        "- เช่น ลองสังเกตผลลัพธ์ของทั้งสองนี้ครับ: $ (1 + 2) \\times 3 $ กับ $ 1 + (2 \\times 3) $"
      ]
    },
    {
      "cell_type": "code",
      "metadata": {
        "id": "1fsHjGtWZvom",
        "colab": {
          "base_uri": "https://localhost:8080/"
        },
        "outputId": "6b4aa1bc-4ec3-4ed4-ba1c-52de23707d50"
      },
      "source": [
        "(1 + 2) * 3"
      ],
      "execution_count": 35,
      "outputs": [
        {
          "output_type": "execute_result",
          "data": {
            "text/plain": [
              "9"
            ]
          },
          "metadata": {
            "tags": []
          },
          "execution_count": 35
        }
      ]
    },
    {
      "cell_type": "code",
      "metadata": {
        "id": "AtYJHkbzZxtj",
        "colab": {
          "base_uri": "https://localhost:8080/"
        },
        "outputId": "4ce7c4d2-5976-45cf-f0ff-cc186e73d30f"
      },
      "source": [
        "1 + (2 * 3)"
      ],
      "execution_count": 36,
      "outputs": [
        {
          "output_type": "execute_result",
          "data": {
            "text/plain": [
              "7"
            ]
          },
          "metadata": {
            "tags": []
          },
          "execution_count": 36
        }
      ]
    },
    {
      "cell_type": "markdown",
      "metadata": {
        "id": "pcjsRDSTZ75G"
      },
      "source": [
        "### Excercise\n",
        "เรามาลองคำนวณค่าตามนี้\n",
        "\n",
        "$ 3 \\times (4 + 1 - 2 \\times 5) $"
      ]
    },
    {
      "cell_type": "code",
      "metadata": {
        "id": "O5zShJj6aFbi",
        "colab": {
          "base_uri": "https://localhost:8080/"
        },
        "outputId": "c496d203-2a7f-48d2-967b-ea80e1fca686"
      },
      "source": [
        "3*(4+1-2*5)"
      ],
      "execution_count": 37,
      "outputs": [
        {
          "output_type": "execute_result",
          "data": {
            "text/plain": [
              "-15"
            ]
          },
          "metadata": {
            "tags": []
          },
          "execution_count": 37
        }
      ]
    },
    {
      "cell_type": "markdown",
      "metadata": {
        "id": "RM4xwOfWaGIR"
      },
      "source": [
        "$ \\frac{1 + 2 + 3}{4 + 5 + 6} $  "
      ]
    },
    {
      "cell_type": "code",
      "metadata": {
        "id": "HEY8PTowaMnP",
        "colab": {
          "base_uri": "https://localhost:8080/"
        },
        "outputId": "cc3bc98b-9079-41c2-bec2-637c7fef2aec"
      },
      "source": [
        "(1+2+3)/(4+5+6)"
      ],
      "execution_count": 38,
      "outputs": [
        {
          "output_type": "execute_result",
          "data": {
            "text/plain": [
              "0.4"
            ]
          },
          "metadata": {
            "tags": []
          },
          "execution_count": 38
        }
      ]
    },
    {
      "cell_type": "markdown",
      "metadata": {
        "id": "3RVy8kpemhg5"
      },
      "source": [
        "### เครื่องหมาย = ใน python คือ assignment ไม่ใช่เครื่องหมายเปรียบเทียบ (เครื่องหมายเปรียบเทียบใช้ == )"
      ]
    },
    {
      "cell_type": "code",
      "metadata": {
        "id": "asse8HgGmgWA"
      },
      "source": [
        "a = 1"
      ],
      "execution_count": 39,
      "outputs": []
    },
    {
      "cell_type": "code",
      "metadata": {
        "id": "s4rqh1KsmxcF"
      },
      "source": [
        "a = a + 2"
      ],
      "execution_count": 40,
      "outputs": []
    },
    {
      "cell_type": "code",
      "metadata": {
        "id": "7GtX_pPlm0nG",
        "colab": {
          "base_uri": "https://localhost:8080/"
        },
        "outputId": "6e70c8be-6da7-4f51-eb40-d782693d64a6"
      },
      "source": [
        "a"
      ],
      "execution_count": 41,
      "outputs": [
        {
          "output_type": "execute_result",
          "data": {
            "text/plain": [
              "3"
            ]
          },
          "metadata": {
            "tags": []
          },
          "execution_count": 41
        }
      ]
    },
    {
      "cell_type": "markdown",
      "metadata": {
        "id": "dTJ6Rl3fPgUN"
      },
      "source": [
        "### Excercise\n",
        "\n",
        "![area-34.gif](data:image/gif;base64,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)\n",
        "\n",
        "\n",
        "- สร้างตัวแปร width คือความกว้างของพื้นที่ ให้มีค่า 5 <br>\n",
        "- สร้างตัวแปร height คือความสูงของพื้นที่ ให้มีค่า 3<br>\n",
        "- จงคำนวนพื้นที่ area โดยมีสูตรคือ area = width x height<br>\n",
        "- แล้วพิมพ์พื้นที่ area ออกมาที่หน้าจอ\n",
        "\n",
        "\n"
      ]
    },
    {
      "cell_type": "code",
      "metadata": {
        "id": "3TEtVlVVboy3",
        "colab": {
          "base_uri": "https://localhost:8080/"
        },
        "outputId": "29d89ee3-9ac2-4738-c7b2-dd1724fabd9b"
      },
      "source": [
        "width = 20\n",
        "height = 40\n",
        "area = width * height\n",
        "print(area)\n"
      ],
      "execution_count": 42,
      "outputs": [
        {
          "output_type": "stream",
          "text": [
            "800\n"
          ],
          "name": "stdout"
        }
      ]
    },
    {
      "cell_type": "markdown",
      "metadata": {
        "id": "MGG-muKq4Kuw"
      },
      "source": [
        "## ชนิดของข้อมูล \n",
        "#2.Strings ชุดของตัวอักษร\n",
        "\n",
        "![lizablackpink.jpg](data:image/jpeg;base64,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)\n",
        "\n",
        "\n",
        "name = \"liza\"<br>\n",
        "suraname = 'manobal'\n",
        "\n"
      ]
    },
    {
      "cell_type": "code",
      "metadata": {
        "id": "Rj5wlWs_8eeB"
      },
      "source": [
        "name = \"liza \""
      ],
      "execution_count": 47,
      "outputs": []
    },
    {
      "cell_type": "code",
      "metadata": {
        "id": "mZ539Nqx8n3k"
      },
      "source": [
        "surname = 'manobal'"
      ],
      "execution_count": 48,
      "outputs": []
    },
    {
      "cell_type": "markdown",
      "metadata": {
        "id": "4jSnuXgAaAWU"
      },
      "source": [
        "### การต่อข้อความ (Concatenate)\n",
        "- เราสามารถนำข้อความ 2 อันมาต่อกันได้ด้วยเครื่องหมาย `+`\n",
        "- เช่น เราจะต่อข้อความในตัวแปร `name` และ `surname` เข้าด้วยกันได้ดังนี้"
      ]
    },
    {
      "cell_type": "code",
      "metadata": {
        "id": "wOD4JggY8tw2"
      },
      "source": [
        "ns = name+surname"
      ],
      "execution_count": 49,
      "outputs": []
    },
    {
      "cell_type": "code",
      "metadata": {
        "id": "Cvu5DVYD8w_k",
        "colab": {
          "base_uri": "https://localhost:8080/"
        },
        "outputId": "ec17dab5-8dbc-429c-ad1f-c48784b3ed94"
      },
      "source": [
        "print(ns)"
      ],
      "execution_count": 50,
      "outputs": [
        {
          "output_type": "stream",
          "text": [
            "liza manobal\n"
          ],
          "name": "stdout"
        }
      ]
    },
    {
      "cell_type": "code",
      "metadata": {
        "id": "1uLvlki-88FR",
        "colab": {
          "base_uri": "https://localhost:8080/"
        },
        "outputId": "dd839af9-a69b-457d-e128-bdaa909acf3e"
      },
      "source": [
        "print(name+surname)"
      ],
      "execution_count": 51,
      "outputs": [
        {
          "output_type": "stream",
          "text": [
            "liza manobal\n"
          ],
          "name": "stdout"
        }
      ]
    },
    {
      "cell_type": "code",
      "metadata": {
        "id": "PGcK34zo8-sm",
        "colab": {
          "base_uri": "https://localhost:8080/"
        },
        "outputId": "9f85cd32-a0fb-4f7b-c1be-a69d58aeee32"
      },
      "source": [
        "print(name,surname)"
      ],
      "execution_count": 52,
      "outputs": [
        {
          "output_type": "stream",
          "text": [
            "liza  manobal\n"
          ],
          "name": "stdout"
        }
      ]
    },
    {
      "cell_type": "code",
      "metadata": {
        "id": "XtrSTwv7Y5vh",
        "colab": {
          "base_uri": "https://localhost:8080/"
        },
        "outputId": "184d4a5c-9a03-4ba3-ef41-8a1cdcf75582"
      },
      "source": [
        "print(name*2)"
      ],
      "execution_count": 53,
      "outputs": [
        {
          "output_type": "stream",
          "text": [
            "liza liza \n"
          ],
          "name": "stdout"
        }
      ]
    },
    {
      "cell_type": "markdown",
      "metadata": {
        "id": "eMqp3uCPB5Qc"
      },
      "source": [
        "# การรับข้อมูลจาก keyboard"
      ]
    },
    {
      "cell_type": "markdown",
      "metadata": {
        "id": "2ENOiOwcDu89"
      },
      "source": [
        "## คำสั่งคือ input(คำถามที่ต้องการถาม)"
      ]
    },
    {
      "cell_type": "code",
      "metadata": {
        "id": "A7L2e9ydD47L",
        "colab": {
          "base_uri": "https://localhost:8080/",
          "height": 164
        },
        "outputId": "77ccc79b-442f-4c29-98ad-a9e0eb50f445"
      },
      "source": [
        "name = input(int(\"please enter your name ?\"))"
      ],
      "execution_count": 59,
      "outputs": [
        {
          "output_type": "error",
          "ename": "ValueError",
          "evalue": "ignored",
          "traceback": [
            "\u001b[0;31m---------------------------------------------------------------------------\u001b[0m",
            "\u001b[0;31mValueError\u001b[0m                                Traceback (most recent call last)",
            "\u001b[0;32m<ipython-input-59-a34b6fdb7113>\u001b[0m in \u001b[0;36m<module>\u001b[0;34m()\u001b[0m\n\u001b[0;32m----> 1\u001b[0;31m \u001b[0mname\u001b[0m \u001b[0;34m=\u001b[0m \u001b[0minput\u001b[0m\u001b[0;34m(\u001b[0m\u001b[0mint\u001b[0m\u001b[0;34m(\u001b[0m\u001b[0;34m\"please enter your name ?\"\u001b[0m\u001b[0;34m)\u001b[0m\u001b[0;34m)\u001b[0m\u001b[0;34m\u001b[0m\u001b[0;34m\u001b[0m\u001b[0m\n\u001b[0m",
            "\u001b[0;31mValueError\u001b[0m: invalid literal for int() with base 10: 'please enter your name ?'"
          ]
        }
      ]
    },
    {
      "cell_type": "code",
      "metadata": {
        "id": "1SiKnGh3EGQd",
        "colab": {
          "base_uri": "https://localhost:8080/"
        },
        "outputId": "77cae77b-ad98-4276-af92-8902825dbb0b"
      },
      "source": [
        "print(name)"
      ],
      "execution_count": 57,
      "outputs": [
        {
          "output_type": "stream",
          "text": [
            "1\n"
          ],
          "name": "stdout"
        }
      ]
    },
    {
      "cell_type": "code",
      "metadata": {
        "id": "dOw9gPeopCfS",
        "colab": {
          "base_uri": "https://localhost:8080/"
        },
        "outputId": "40e0410a-f3a5-408b-9041-e26e16dc2281"
      },
      "source": [
        "print(type(name))"
      ],
      "execution_count": 58,
      "outputs": [
        {
          "output_type": "stream",
          "text": [
            "<class 'str'>\n"
          ],
          "name": "stdout"
        }
      ]
    },
    {
      "cell_type": "markdown",
      "metadata": {
        "id": "Y8gDFzHJ9Lrj"
      },
      "source": [
        "## การเปลี่ยนชนิดของข้อมูลระหว่าง integer , float , string\n",
        "#a = int(b)\n",
        "#a = float(b)\n",
        "#a = str(b)\n"
      ]
    },
    {
      "cell_type": "code",
      "metadata": {
        "id": "FrFGKrJHN1IJ"
      },
      "source": [
        "a = 31.2"
      ],
      "execution_count": 60,
      "outputs": []
    },
    {
      "cell_type": "code",
      "metadata": {
        "id": "lkB4Ne4MZW77",
        "colab": {
          "base_uri": "https://localhost:8080/"
        },
        "outputId": "591f5d80-c7aa-4c8c-85c9-685d5531f284"
      },
      "source": [
        "a"
      ],
      "execution_count": 61,
      "outputs": [
        {
          "output_type": "execute_result",
          "data": {
            "text/plain": [
              "31.2"
            ]
          },
          "metadata": {
            "tags": []
          },
          "execution_count": 61
        }
      ]
    },
    {
      "cell_type": "code",
      "metadata": {
        "id": "pCSMLNe5N5Fy",
        "colab": {
          "base_uri": "https://localhost:8080/"
        },
        "outputId": "900095b9-e677-43e1-d9b9-5f4f85a07335"
      },
      "source": [
        "type(a)"
      ],
      "execution_count": 62,
      "outputs": [
        {
          "output_type": "execute_result",
          "data": {
            "text/plain": [
              "float"
            ]
          },
          "metadata": {
            "tags": []
          },
          "execution_count": 62
        }
      ]
    },
    {
      "cell_type": "code",
      "metadata": {
        "id": "GKw9CmxdN8A4"
      },
      "source": [
        "b = str(a)"
      ],
      "execution_count": 63,
      "outputs": []
    },
    {
      "cell_type": "code",
      "metadata": {
        "id": "nJIWMLLjOBR9",
        "colab": {
          "base_uri": "https://localhost:8080/",
          "height": 34
        },
        "outputId": "3bc3a88d-1ec7-4d90-b9e3-bd62a5cfb4d3"
      },
      "source": [
        "b"
      ],
      "execution_count": 64,
      "outputs": [
        {
          "output_type": "execute_result",
          "data": {
            "application/vnd.google.colaboratory.intrinsic+json": {
              "type": "string"
            },
            "text/plain": [
              "'31.2'"
            ]
          },
          "metadata": {
            "tags": []
          },
          "execution_count": 64
        }
      ]
    },
    {
      "cell_type": "code",
      "metadata": {
        "id": "FTEXwavKODSi",
        "colab": {
          "base_uri": "https://localhost:8080/"
        },
        "outputId": "b9f04ab9-d68d-4a23-f786-f03177a9fb92"
      },
      "source": [
        "type(b)"
      ],
      "execution_count": 65,
      "outputs": [
        {
          "output_type": "execute_result",
          "data": {
            "text/plain": [
              "str"
            ]
          },
          "metadata": {
            "tags": []
          },
          "execution_count": 65
        }
      ]
    },
    {
      "cell_type": "code",
      "metadata": {
        "id": "nohG0bWFzyb6"
      },
      "source": [
        "a = \"32\""
      ],
      "execution_count": 66,
      "outputs": []
    },
    {
      "cell_type": "code",
      "metadata": {
        "id": "oU5A3W48z2Qc"
      },
      "source": [
        "b = int(a)"
      ],
      "execution_count": 67,
      "outputs": []
    },
    {
      "cell_type": "code",
      "metadata": {
        "id": "NnNpzRAH0boB",
        "colab": {
          "base_uri": "https://localhost:8080/"
        },
        "outputId": "638e5e0e-8a33-4c71-b564-3a9c0b24027a"
      },
      "source": [
        "b"
      ],
      "execution_count": 68,
      "outputs": [
        {
          "output_type": "execute_result",
          "data": {
            "text/plain": [
              "32"
            ]
          },
          "metadata": {
            "tags": []
          },
          "execution_count": 68
        }
      ]
    },
    {
      "cell_type": "code",
      "metadata": {
        "id": "XsXhDzkC0dlw",
        "colab": {
          "base_uri": "https://localhost:8080/"
        },
        "outputId": "8a1c8ab3-634d-4f80-e161-dc40e8b519f9"
      },
      "source": [
        "type(b)"
      ],
      "execution_count": 69,
      "outputs": [
        {
          "output_type": "execute_result",
          "data": {
            "text/plain": [
              "int"
            ]
          },
          "metadata": {
            "tags": []
          },
          "execution_count": 69
        }
      ]
    },
    {
      "cell_type": "markdown",
      "metadata": {
        "id": "vNag_GikZ0C8"
      },
      "source": [
        "### Excercise\n",
        "\n",
        "ให้ตัวแปร a มีค่าเป็น 50\n",
        "แล้วตั้งตัวแปร b ที่รับค่าจากการเปลี่ยน a เป็น string\n",
        "แล้วพิมพ์ค่า b และ พิมพ์ชนิดของ b ออกมาที่หน้าจอ"
      ]
    },
    {
      "cell_type": "code",
      "metadata": {
        "id": "UmdqpndhaKM_"
      },
      "source": [
        "a = 50"
      ],
      "execution_count": 74,
      "outputs": []
    },
    {
      "cell_type": "code",
      "metadata": {
        "id": "oSE4Y06PaKeH"
      },
      "source": [
        "a = str(a)"
      ],
      "execution_count": 75,
      "outputs": []
    },
    {
      "cell_type": "code",
      "metadata": {
        "id": "DdZppKSIaRWn",
        "colab": {
          "base_uri": "https://localhost:8080/",
          "height": 34
        },
        "outputId": "3fcfa8b4-8597-4b40-d77a-06831d6e78be"
      },
      "source": [
        "a"
      ],
      "execution_count": 76,
      "outputs": [
        {
          "output_type": "execute_result",
          "data": {
            "application/vnd.google.colaboratory.intrinsic+json": {
              "type": "string"
            },
            "text/plain": [
              "'50'"
            ]
          },
          "metadata": {
            "tags": []
          },
          "execution_count": 76
        }
      ]
    },
    {
      "cell_type": "code",
      "metadata": {
        "id": "LPlE3JPwaeE1",
        "colab": {
          "base_uri": "https://localhost:8080/"
        },
        "outputId": "74ffccda-fa39-4452-bc1d-3ecd41adb32f"
      },
      "source": [
        "type(a)"
      ],
      "execution_count": 77,
      "outputs": [
        {
          "output_type": "execute_result",
          "data": {
            "text/plain": [
              "str"
            ]
          },
          "metadata": {
            "tags": []
          },
          "execution_count": 77
        }
      ]
    },
    {
      "cell_type": "markdown",
      "metadata": {
        "id": "QppwLLP1OVii"
      },
      "source": [
        "# ชนิดของข้อมูล \n",
        "#3.Boolean\n",
        "True <br>\n",
        "False\n"
      ]
    },
    {
      "cell_type": "code",
      "metadata": {
        "id": "kPZFCIAlOgaz"
      },
      "source": [
        "x = True"
      ],
      "execution_count": 78,
      "outputs": []
    },
    {
      "cell_type": "code",
      "metadata": {
        "id": "bSJ2EMCxOk-F"
      },
      "source": [
        "y = False"
      ],
      "execution_count": 79,
      "outputs": []
    },
    {
      "cell_type": "code",
      "metadata": {
        "id": "bXIRcZXTOmyS",
        "colab": {
          "base_uri": "https://localhost:8080/"
        },
        "outputId": "988dc290-94e7-4728-de5c-3f3140ca942a"
      },
      "source": [
        "x and y"
      ],
      "execution_count": 80,
      "outputs": [
        {
          "output_type": "execute_result",
          "data": {
            "text/plain": [
              "False"
            ]
          },
          "metadata": {
            "tags": []
          },
          "execution_count": 80
        }
      ]
    },
    {
      "cell_type": "code",
      "metadata": {
        "id": "rky0Ju1sOpbU",
        "colab": {
          "base_uri": "https://localhost:8080/"
        },
        "outputId": "be849234-b0b5-42d1-90c9-c6c3fd9a3127"
      },
      "source": [
        "x or y"
      ],
      "execution_count": 81,
      "outputs": [
        {
          "output_type": "execute_result",
          "data": {
            "text/plain": [
              "True"
            ]
          },
          "metadata": {
            "tags": []
          },
          "execution_count": 81
        }
      ]
    },
    {
      "cell_type": "markdown",
      "metadata": {
        "id": "UzBHrHOKPZLw"
      },
      "source": [
        "#Truth Table"
      ]
    },
    {
      "cell_type": "markdown",
      "metadata": {
        "id": "wWS3Y1negwXM"
      },
      "source": [
        "![andornot.png](data:image/png;base64,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)"
      ]
    },
    {
      "cell_type": "markdown",
      "metadata": {
        "id": "eJgoi80TPn-_"
      },
      "source": [
        "##Comparison Operator\n",
        "\n",
        "`>` มากกว่า  \n",
        "`<` น้อยกว่า  \n",
        "`==` เท่ากับ<br>\n",
        "`!=` ไม่เท่ากับ  \n",
        "`>=` มากกว่าหรือเท่ากับ  \n",
        "`<=` น้อยกว่าหรือเท่ากับ\n",
        "\n"
      ]
    },
    {
      "cell_type": "code",
      "metadata": {
        "id": "VqAHTXDxQrV7",
        "colab": {
          "base_uri": "https://localhost:8080/"
        },
        "outputId": "ba8525b4-2642-447c-ee65-084d8969a6bc"
      },
      "source": [
        "15>4"
      ],
      "execution_count": 82,
      "outputs": [
        {
          "output_type": "execute_result",
          "data": {
            "text/plain": [
              "True"
            ]
          },
          "metadata": {
            "tags": []
          },
          "execution_count": 82
        }
      ]
    },
    {
      "cell_type": "code",
      "metadata": {
        "id": "8MbdNTLPQuOl",
        "colab": {
          "base_uri": "https://localhost:8080/"
        },
        "outputId": "83dd4802-771e-4d71-8ae5-86e28ab7f3a6"
      },
      "source": [
        "12<3"
      ],
      "execution_count": 83,
      "outputs": [
        {
          "output_type": "execute_result",
          "data": {
            "text/plain": [
              "False"
            ]
          },
          "metadata": {
            "tags": []
          },
          "execution_count": 83
        }
      ]
    },
    {
      "cell_type": "code",
      "metadata": {
        "id": "-ENmVKOZQx95",
        "colab": {
          "base_uri": "https://localhost:8080/"
        },
        "outputId": "f3b311a0-a401-494a-f373-09006c3c93a1"
      },
      "source": [
        "4==5"
      ],
      "execution_count": 84,
      "outputs": [
        {
          "output_type": "execute_result",
          "data": {
            "text/plain": [
              "False"
            ]
          },
          "metadata": {
            "tags": []
          },
          "execution_count": 84
        }
      ]
    },
    {
      "cell_type": "code",
      "metadata": {
        "id": "SWrXrjp7Q4WP"
      },
      "source": [
        "x = 1\n",
        "y = 2"
      ],
      "execution_count": 85,
      "outputs": []
    },
    {
      "cell_type": "code",
      "metadata": {
        "id": "nBfsImaOQ7Ol",
        "colab": {
          "base_uri": "https://localhost:8080/"
        },
        "outputId": "4f1c7e9c-0bb3-4ac5-909f-2fb01db59781"
      },
      "source": [
        "x>y"
      ],
      "execution_count": 86,
      "outputs": [
        {
          "output_type": "execute_result",
          "data": {
            "text/plain": [
              "False"
            ]
          },
          "metadata": {
            "tags": []
          },
          "execution_count": 86
        }
      ]
    },
    {
      "cell_type": "code",
      "metadata": {
        "id": "xPJJZ6MGQ90l",
        "colab": {
          "base_uri": "https://localhost:8080/"
        },
        "outputId": "426b0f10-c721-4c8d-f8a8-ae0e20c49745"
      },
      "source": [
        "x!=y"
      ],
      "execution_count": 87,
      "outputs": [
        {
          "output_type": "execute_result",
          "data": {
            "text/plain": [
              "True"
            ]
          },
          "metadata": {
            "tags": []
          },
          "execution_count": 87
        }
      ]
    },
    {
      "cell_type": "markdown",
      "metadata": {
        "id": "8C4nVN5ZcNaG"
      },
      "source": [
        "### Excercise ให้ตั้งตัวแปร x เป็น 8 , y เป็น 9\n",
        "สอบถามว่า x <= y จะได้ค่าเป็นอะไร"
      ]
    },
    {
      "cell_type": "code",
      "metadata": {
        "id": "2pZ2gommcKK6"
      },
      "source": [
        "x = 8"
      ],
      "execution_count": 88,
      "outputs": []
    },
    {
      "cell_type": "code",
      "metadata": {
        "id": "LDTWcoD6ccpo"
      },
      "source": [
        "y = 9"
      ],
      "execution_count": 89,
      "outputs": []
    },
    {
      "cell_type": "code",
      "metadata": {
        "id": "c5xxFLRLcmCV",
        "colab": {
          "base_uri": "https://localhost:8080/"
        },
        "outputId": "92d299a8-0e3e-49ea-cb35-068b536e62c0"
      },
      "source": [
        "x <= y"
      ],
      "execution_count": 90,
      "outputs": [
        {
          "output_type": "execute_result",
          "data": {
            "text/plain": [
              "True"
            ]
          },
          "metadata": {
            "tags": []
          },
          "execution_count": 90
        }
      ]
    },
    {
      "cell_type": "markdown",
      "metadata": {
        "id": "2B-B5CBudDQt"
      },
      "source": [
        "### Excercise ให้ a = 1 , b = \"1\"\n",
        "จงเปรียบเทียบว่า a เท่ากับ b หรือไม่"
      ]
    },
    {
      "cell_type": "code",
      "metadata": {
        "id": "fyb9a8-7dBoy"
      },
      "source": [
        "a = 1"
      ],
      "execution_count": 91,
      "outputs": []
    },
    {
      "cell_type": "code",
      "metadata": {
        "id": "mJcU2CgxdSyu"
      },
      "source": [
        "b = \"1\""
      ],
      "execution_count": 92,
      "outputs": []
    },
    {
      "cell_type": "code",
      "metadata": {
        "id": "r8PBCLCadTBH",
        "colab": {
          "base_uri": "https://localhost:8080/"
        },
        "outputId": "88446fe6-e104-404e-9a91-1181323c3163"
      },
      "source": [
        "a == b"
      ],
      "execution_count": 93,
      "outputs": [
        {
          "output_type": "execute_result",
          "data": {
            "text/plain": [
              "False"
            ]
          },
          "metadata": {
            "tags": []
          },
          "execution_count": 93
        }
      ]
    },
    {
      "cell_type": "markdown",
      "metadata": {
        "id": "Ku4z-o6uUN9S"
      },
      "source": [
        "# if \n",
        "การทำงานตามเงื่อนไข\n",
        "- การกำหนดเงื่อนไขในภาษาไพธอนจะใช้คำสั่ง `if` (แปลว่า 'ถ้า') โดยจะมีรูปแบบดังนี้"
      ]
    },
    {
      "cell_type": "markdown",
      "metadata": {
        "id": "LZ3jkLQCUj2P"
      },
      "source": [
        "\n",
        "\n",
        "##if กรณีที่ 1 แบบ มีเงื่อนไขเดียว\n",
        "\n",
        "```python\n",
        "if <test condition>:\n",
        "    <body of if>\n",
        "```\n",
        "\n",
        "- โปรแกรมจะทำกระบวนการที่อยู่ในด้านใน ถ้าหากว่าเงื่อนไขที่กำหนดนี้เป็นจริง\n",
        "- จะสังเกตว่ากระบวนการนี้จะต้องย่อหน้า (indent)\n",
        "  - นั่นเป็นเพราะว่าการเว้นวรรคย่อหน้าจะเป็นการบอกสโคป (scope) ของคำสั่ง ว่าเป็นกระบวนการที่อยู่ภายใต้คำสั่งที่อยู่ด้านนอก\n",
        "  - การกำหนดเงื่อนไขก็จะทำงานเฉพาะภายใน scope ของตัวเอง\n",
        "\n",
        "\n"
      ]
    },
    {
      "cell_type": "markdown",
      "metadata": {
        "id": "lLXLrodFhSd6"
      },
      "source": [
        "![if1.jpg](data:image/jpeg;base64,/9j/4AAQSkZJRgABAQEAYABgAAD/2wBDAAMCAgMCAgMDAwMEAwMEBQgFBQQEBQoHBwYIDAoMDAsKCwsNDhIQDQ4RDgsLEBYQERMUFRUVDA8XGBYUGBIUFRT/2wBDAQMEBAUEBQkFBQkUDQsNFBQUFBQUFBQUFBQUFBQUFBQUFBQUFBQUFBQUFBQUFBQUFBQUFBQUFBQUFBQUFBQUFBT/wAARCAG+AZQDASIAAhEBAxEB/8QAHwAAAQUBAQEBAQEAAAAAAAAAAAECAwQFBgcICQoL/8QAtRAAAgEDAwIEAwUFBAQAAAF9AQIDAAQRBRIhMUEGE1FhByJxFDKBkaEII0KxwRVS0fAkM2JyggkKFhcYGRolJicoKSo0NTY3ODk6Q0RFRkdISUpTVFVWV1hZWmNkZWZnaGlqc3R1dnd4eXqDhIWGh4iJipKTlJWWl5iZmqKjpKWmp6ipqrKztLW2t7i5usLDxMXGx8jJytLT1NXW19jZ2uHi4+Tl5ufo6erx8vP09fb3+Pn6/8QAHwEAAwEBAQEBAQEBAQAAAAAAAAECAwQFBgcICQoL/8QAtREAAgECBAQDBAcFBAQAAQJ3AAECAxEEBSExBhJBUQdhcRMiMoEIFEKRobHBCSMzUvAVYnLRChYkNOEl8RcYGRomJygpKjU2Nzg5OkNERUZHSElKU1RVVldYWVpjZGVmZ2hpanN0dXZ3eHl6goOEhYaHiImKkpOUlZaXmJmaoqOkpaanqKmqsrO0tba3uLm6wsPExcbHyMnK0tPU1dbX2Nna4uPk5ebn6Onq8vP09fb3+Pn6/9oADAMBAAIRAxEAPwD9U6KKKACiiigAooooAKKKKACiiigAooooAKKKKACiiigAooooA5nxZ4wTwvJp8TRb/tUyxA+mTiulrzH4x5a+8OKDgfbYz/4+K9OpgLRRRSAKKKKACiiigAooooAKKKKACiiigAooooAKKKKACiiigAooooAKKKKACiiigAooooAKKKKACiiigAooooAKKKKACiiigAooooAKKKKACiiigAooooAKKKKACiiigAoopKAPMvjF/wAhDw3/ANfkf/oYr02vMvjDj7d4cJOP9Mj/APQxXptMBaKKKQBRRRQAUUUUAFFFFABRRRQAUUUUAFFFFABRRRQAUUUUAFFFFABRRRQAUUUUAFFFFABRRRQAUUUUAFFFFABRRRQAUUUUAFFFFABRRRQAUUUUAFFFFABRRRQAUUUUAFI3Ck00PnPBx2PrRu3KQRjPagD57+NXxp8GQa1o1nNrVulxbXkbSoXUGPDDrzXt3hfxXpfjLT/7R0i6S8tCxQSxnIJFfm9+2/8ACSbSPjlb3NraxLF4kZRbRqnG4YU/qa+/Pgf4Mh8A/C/QNJjhWCaO1Q3CqMZk2jdW8opRTRlFvmO+opjMVGQN3tTl6dMVzI1FoooqgCiiigAooooAKKKKACiiigAooooAKKKKACiiigAooooAKKKKACiiigAooooAKKKKACiiigAooooAKKKKACiiigAooooAKKKKACiiigAooopXAKKQ9h3puTzgY+tMB9FRmTrzwPQ4xXEeJvi9pOiXkum6fHLr+uRgN/Zdj/rSM46nj9aYHbjB3dSR3x1rj/FXxW0HwtEytM2pXYO37Jpq/aJVP+0q8j8awP8AhH/Gnj7e2r37eHNGkIaO208mO9T2d+RXXeF/AGh+EZPNsLGMXzJslvnUGab3Zu5oA8b8efC3xJ8btW0rWdS0220ePRZVutMxNvecghsOD9zJAFd7YfFe40i6jsPGOkS6PeyNhZLVTNbbf7zSdFr0uq+oWNtqdq9teQR3EEgw0cq5VvqKfNpYVtbkWm6rZ6xbrcWF1De279Jbdw6/mKuLjHFeZ6h8IX0e6F/4O1OTQ7mJW8vTS5Gnsx7tGBzzUdv8UtW8H7bfxzpbWkUagza7bLiyJ6YA5akM9SorO0jWrHX7SO8066S7tZRlZIzWgc0gFoqMyY46n0FSUAFFFFABRRRQAUUUUAFFFFABRRRQAUUUUAFFFFABRRRQAUUUUAFFFFABRRRQAUUUUAFFFFABRRRQAUUUUAFFFFABRRRQAUmaD04pi+42/wAjQBJRUM00dvC8krrFGoyWY4wK86v/AIyW17ObPwnY3Hii4DmKW4tB+6tnH9/ODj6UwPRriRIYnkldY4lBLM5wAPUntXB6/wDGDS9Puo9P0iGXXL6T5UNopkgDejSDIFZ1t8OvEfixo7nxlr3lunH2DRnaO2kU9pFbqccfnXd+H/Cuk+FbRrfSNPh0+Bjlo4UChj6n3oA4BPBvi34gbZPFt6NF09gVl0OxcSK47EyjBBx/Ou48N+D9J8JWcNppdkkEUfAdvnkPsWPP61ur90UtAEWC2MjDU/nd7U6ikAUyQFlwF3Z680+igCLayqAG6deOtR3VtHdQlZoUuEP/ACykUMv61ZooA841f4PwLqE+p+Gr+bw7qs7BpZo8yI2P4QhO0fhVN/iF4i8D7U8W6M8unhvLTUNPzPJJ/tNGo+WvU6jYBsqV3KevoaYGXonibTPEUKvp17BcHAYxpIC6f7w6g/WtfNefa58HdIuppLnR57nwzfyOJXn0txF5rDoH45B71ljxZ418DSCPxFpC+IdPd8Je6OhAgjH8U248n1xQB6rmiuf8JeOdC8bWj3GialDqMKHa5jz8p9Dmt0ccnIzwFNAElFNXPOcZ9qdSAKKKKACiiigAooooAKKKKACiiigAooooAKKKKACiiigAooooAKKKKACiiigAooooAKKKKQBSFsYpaaxK5PX2FMBc0bhux3rO1bWrDw/YS32pXcdnaRje8kx4UDvXn918UNV8VySWngjSzcIyhotcu1Jsjn6fNTA9IvtTtNLtzPeXMNrEP45nCD9a851L4uT6ldTab4M0ebW9RXktchoLfGeolIwak0/4RyatcfbvF2pTa1O/MlgXzZKf9lCM16Dp+n22l2sdraQx21rGu1IoxhVHtQB5zD8J77xRcfaPGmsS6om9ZYbCH9yluR23IRvGfWvRLDSLTSYFis7WK3VRgeWoXP19atKoXHUn1NPoAYFboTz/AHvWlZA3anUUgG528E5o3DrR1JxyaawCn0JGBigB+7r7UZpq+hJJo3YbnjPAoAfRRRQAlLSHjtmigBaaVzTqKAG4OOuKb5Q2lWG4HqCMg1JRQBw/ij4TaJr11HqESNpeqQKVgubRiioT3KAgN+NYaap438AxldThXxRpsXzSammI5lX0ES9TXqbYI5GRTeeOeB020wOb8KfETQvFsKGyu/Kmc4FrdDypuOvyHmum3Ada5DxT8MdE8USG4aI6dq2CE1Kywlwg77W7VzLjxz8O87E/4THQYYwqQrl9Tc+rMcKeKegHqm4ZApdwrj/CfxR0DxVcPZQXa22rQgefp05xLCT0Ddq67oMHpjr2qQH0UlLSAKKKKYBSE45NLTHPOMZB4oAduFJvH64qlqmp2eh6fLeX9wltaRDdJNMflUD1rgT+0p8LlXcfG2lbR3Ehx/KgD0zNGazdG16w8SabDqGl3SXtjMMx3ERyrVobSw/unvigB24euKN3zYrg/EXxm8LeGfH+keDdRv44vEGqq72dox+eRVALEfTNdySF3c5GefagB+4Ubqjz82ev+7/WndRj+9QA6lpqfd6badQAUUUUAFFFFABSHOOKWkPSgBN3X07UK4bp9OawPFHjTRPBsMb6xqUNiJTtiSY8u3YL7muMbxb4z8cyBPD2kLoVkrlZLvWEIMqdmh29+/NVYDv9b8T6X4dt3lv72G3CqW8tnG9v91ep/CvP2+JGv+Oj5fg3R5FsmYxy6pf5gaA/3ljYfPWpovwd0q3uBe61cTeJtQB3JPqTCTym/wBj0Ga7oYjVUUZVeNq9vb6UgPPtI+ENu19b6r4m1CbxFq8fyidgYoiCe8QO2vQre0hs4RFbxRwRDokaBV/IU7uMck0+lcBPLHfnnNLilooARVC9KWiigAooooAY3p615p8dtc+IOgeFoLn4baBb+JNcWUg2N1dC3Vlx/eIr0s9Txntx1FJ78ccZPWgD88fD/wC2z+0V4q+J+v8Aw90z4TaVN4s0QAXtm+soqxkruGGxg8V9n/DnxZ4gtfh5FrHxNgsfCmpp811HJdoYYBgf8tDgHmvkH4CjP/BTz4z/AHcrFGM9z+4FO/4Kra14jMXwr8Oac9umlaxrRhuYL/d9ju/kz5c4HJUYBxQB9l6B8ZPBvibU00+w8QWMl7ICYoGnVXlA6lBn5h9K0fFnxD8OeB1gGvaxZ6Y9w22GOeZVeQ/7IJya+Hvid+yj8RPHWvfDTxDoR8A+C7fQZIGfUtLEsU8qblLRoeQQwBBFXf2kPgL8RPEn7R2h/EbRbbRfiNoGlWUUMvhzUt0jwTLu3yxoMAE5AzntQB9dz/GbwrP4V1nWdN13Tr0abA0ksa3SbkYKSFcZ+XOO9eW/sk/tfWH7SPhvWb2+trHw/f2WrzadDaLeCU3CIBiRfXOe3pXkfwT8UfDz4kar8X/CEnwytfDXiu1sWOrxwW4W2uW8kle+SQOKxf8AglX8PPC9x8O/GN3caLZPqmmeK7uK2lkTMkEYChVHoBzQB+gHmYYgjjsR3qSoiAuME59u9SUALRRRQAjLuGKb5YLAnkin0UAJRtpaKQHLeK/hxoHjC3aLULIKxYP51sxikJHQllwT+Nco2j+N/AIY6bOvivTV4t9Pm2wtCvbL8luPWvUm+97d6THXqKoDivDfxe0PXLp7K4eTStQhwssd8hiTceyu2A34V2vmAruHK4yCOQaw/FHgvRPGUKw6xp8N4YzuieRcshHQj3FcUfCfjDwK7TeH9XfXbBpPMls9VYvIif3IccD8aAPUd/Tjg04V59oPxj0m9uI7PWo5vDGqytsSw1MBZJMcZXHb/Gu/XHGDkY4pWAfTS3zAAZPenU1vrigDyr9qBd3wA8b4Yqf7NnKsDgg+W1fnT+x74y8J3nwP0lNR+GWpeLry2xDNqAEqgsB0GAQw96/Sz49eG7/xh8IfFGiaZD51/f2UtvCmM/MyED+dec/sM/C/xD8G/gDpXhnxPb/ZdTszsdQMcYHNAGtrDa7YfCfRj4HmtfBcbDfJ/aBU+QuckASdTXgWu/tVePfhX8VvAejajrdj4z0jxHqSae5hSOFoSQTuG3Oelek/t3/Bnxx8W/CPh9/BNxIZtNvo7i6sY2I+1RBwWXA65AP515R8TP2f/F/xK8afCnXNG8BWnhbT/DuqxXd7CsBS5YKpBB5IxzQBq/tDYm/4KDfAxiQN1jfEccjKLWh8WP2vPEMf7Rl/8NdPv7XwJpunWX2h9c1NUMd1Jv2+WvmYHTng9q6r4v8AwW8T+Kv2tvhb45sbEvoOg2txDeSY5zIigY+mDVX48+Cbvx94j1K08W/Bix8d6bHK39m31rab5o1x8u4kjmgDsvC/xU8S+C/hj4x8X+Kdb0vxbpOmW32jTdQ02WPbcsEYsjCPheQBzXhWkftUfEbx/wDBi4+JWj69Y6dfS25urTwiY428znhPOPI/Ktr9mP8AYx8QeHPhD8RNA8XzrpVp4rJWz0KwJWDTlG4KVU9GOQW9xWP8F/hH41+APh2bwPrXwu03xlbWEpXTNbtrYuDCOF80kj5vpQB9Sfsz/GhPj18ING8XfZJrC4uN8M9vMhVlljO1+D2yDg969Tz+dcN8GbPVLPwDZrq+i2WgagXkLWNhGUiQFjtwD3xjNdx6Z60AOooooAKKKKAOb8afEDRPh9pa32t3gt4mYIiqNzuT0AXqa47+3PHHxEU/2NEvhTSJFDwarMqyyyg9vKbBXjv712Hi34f6J42hhGrWEN3NC26Cd1y8LDoy+hFcd/YPjrwDIG0fUl8UaOHMk8WqMz3ir/ci24GB6GqVhG54X+FOieHbie9njfVNSmIa4nu2Mqlh3VGyF/Cu2QIVCKu1QOABjArhvDPxd0bWLqCxv0k8PaxNkrpuogJM2DjIA7V3i0MA2jING0daWipGJS0UUAFFFFADWJA4GabvO4gfMfSuX+KHxJ0n4TeDbzxLrjMmmWv+tZcfKOef0rxKz/b2+HmoWtvdW1vqE1vOgeKWNAVdT0PWgD6XVt3I6U6sPwV4qtPGvhqy1qxSSO1u13osowwGcVuUAJtGc96MUtFAHmPhz9nfwX4T+L+vfEvTdPkh8V64AL+6admWTC7RhOg4Hauo8efDnw98TNEbSfEemxajZnJUOPnjJGNyN1U+4rpOMdOKU+1AHzlpP7Cvw+0uPTbQXGuTaXpt4l9aWj6tOdkqvvXLbvmGex4rpfHP7K/hPxl4yufFYuNU07W7q2FpO1rqEqRPGCTjYGwDk9etezcjnGaXhmwcHvigDy/4N/s4eB/gZo9/YeGdOlQ6iSby5u52nmmJznc7c45Ncv4C/Yr+GPwx+Id74z8OWepadq17cNc3Ea6jKbd3Y5J8rO0c+1e89sfypj52kADp1bpQAjEqucZzwB6VIowAK8v+MHxql+E+peHbSLwjrPic6tcrbM2kRq/2YMwXzHyeFGcn2FeoL90f1oAWiiigAooooAKKKKAEo29PalooASkK9SOtOpG6GgDJ17wzpXia3lg1GyjnDJsMhUBwCP4W6j8K4Bfh34g8B4bwdqzS6bEuRo15+8aVvTznOVFd34k8XaT4PsRdazqENhDkKrTNjcT0A964k+PPFHjNnTwpohsI1OPt+roRFKvqhU1QEun/ABusNP1GDR/F1v8A8I1rcoJEMj74SB6ScA11I+IXhz/oL2v/AH9X/GuWtvglpeqObjxbLL4qnyGWLUMPFC3U+WPTNbf/AAp/wWQP+KbsD/2zpC1L3/CwPDg/5i9r/wB/l/xo/wCFgeHP+gvaf9/V/wAao/8ACn/Bf/QtWH/fqj/hT/gv/oWrD/v1RoGpe/4WB4c6f2va/wDf5f8AGl/4WF4d/wCgva/9/V/xqh/wp/wX/wBC1Yf9+qP+FP8Agv8A6Fqw/wC/VGgal/8A4WF4c/6C9p/39X/Gj/hYPhz/AKC9r/39X/GqH/Cn/Bf/AELVh/36o/4U/wCC/wDoWrD/AL9UaBqXv+FgeHM5/te1/wC/q/40v/CwfDn/AEGLX/v8v+NUP+FP+C/+hasP+/VH/Cn/AAX/ANC1Yf8AfqjQNS9/wsDw5jH9sWv/AH+X/Gl/4WD4c/6C9p/39X/GqH/Cn/Bf/QtWH/fqj/hT/gv/AKFqw/79UaBqXv8AhYnhzJH9sWv/AH9X/Gk/4WJ4b25Os2aj+80ygfzql/wp/wAFZP8AxTVh/wB+q4P47fC/wlpfwk8T3Nr4fsoZ47RmSREwVORyKNAPZBdNIqvGokjYBldTkEHvRWd4PT/ikdDwSo+wwcD/AK5rRRoGptUjZ2nHBoWg0hmF4l8G6R4qtZINRtI3Ei7DNGNswz6OORXEDwX4t+H+X8Maj/bGkxqBHot4Rvz3PnMc16kykjjg5zRt5p3A4Lw/8XtNvr0aXq8Muh6uo/ew3CnylPoJSApruY5luIfMiZZUYZVo2yD7gis/xF4X0vxZp5stXsYr+1Y58uYZwfWuCuPh14n8GtJceC9cM4KiOPSNXc/Y4VH9wKMg44oEenLn5stuP5VKOlebaZ8ZLW3uGtPFWn3PhmeNljW6vl2W9w5/55HOSM+tei29xHdQpLFIsiOoZWU5BB70AS0UmRRmkM+cv+Cgyhv2VPGQY4XyDk/8Bavl/wDZp8afH/T/AIH+C7Tw78BdD1zR1soRBqlxqFurTRYHzlSuQcc4r7e/aS+E9x8cPhDrPg+0uo7STUF2GaTOFGCD07814L8Pf2aPjl8M/CGk+GdF8fWMOlabCkESGSTJVRjn5fSgD0v9oPQfH9x8HYNe8Galb+FfFOixC+mtGVTBKiDfJDzhVzjG6vn74IftJePf20Pido2n6DqVt4W8M+HLSKXxJFG6TS3lx92SJOQQobBDDg19EfE34T/EL4hfC/S/Bz69ZotwpTXL1mfzZ0JOUTjoVODmuB0X9iOL4MeLtE8SfB+PTfD9/Dbx2uoxXO8R3iL1Lbc5JPNAGL8dPiJ48i/bE8C/Dvw14lGi6Tq2k3U05a3EvzJtAPP1rmZ/FPj79mz9sPwL4Uv/ABU3ivw944cW0kMyCNoJcMzOBk8cdKoftKWuu3n/AAUC+F8Ph64tbbW20K82y3RIiB+TPI5617B4U/ZQ17W/j9p/xS+JGtW+tanpMCx6XZWxYw28gz+8AYZDEEigDE8UeLPiJ4h/ah8TeCvDHiNNJD2LfZpZYBIttmIZfaepBOcVxH7V/wAcPH/7Kfwj8G+F7jxV9s8Ua9qTWl34ojsfMZI9oJdIB1J5GB619BaH8C9b039qDVfiPLeWbaPdWpgS3Qt5wOwLk8Y7UftUfsy2f7SHhSxt1vH0bxFpE/2vTNUh4eGXpnOOmKAPl3VvH3jTwN4y8C6r8M9S13xDYzSRR67peoafMonWQrvmV3HybQSdo9a0f20Pj5418N/GTwro2pXWpeDvhfcW8dzcapp9g95JO7ZBjOwZTHBr3bw34V/aJjvYdM1fW/DSaHZSwCG+tDJ9rnhUDeJMjGTin/GXwV8cbrVC3geTwjrmlTnEtl4q80iMHqybB1oAwvhH4oNj4D8Waj4E8bN8QJ7Wxea2024iMU8UvlkopDEnk+or5i+Bnxqn+Il5qbfEf4oat4S8fJeNI1nc6RLHaWqZAEe84R8HIzX0r8Ff2O9Z+FeseNfGMWrW1j4y8RGNxDYFhZQMqbSFBGcGuQ8f/sv/ABn+Pml6r4U+IaeB7Tw/NjydY0YTf2g2GByxYYyQKAOw+Pnj7W/C/ir4QWlhq8V7BqEoS4uo0BW4G9QCCOnBrN/aU+KXiLxh+0Z4U+CPhbxQfDE11Amo6nItt5jS27bgFVsjacjrXXfED9lvVNSk+Fdr4cv7WHS/CBUTC8LeZKAyklcDrwetS/H79lq88ffFDw38T/B2q/2H420YCMyMdqXUKg7YpCBnbk5oA8d1zxt41/ZZ/am+GvgqXxNJ4g8K+LIJ/tFtcJ8/mKVVWDEkjBPQVseIvHnxE8T/ALcWvfDXQvFo0HQY9BjvQGtRMRK0hUkZPpXR+G/2WfG/xI+Mnhr4mfGTUdLk1bw/HLHY6XoLObVNxGGO8ZzwDx3rtdL/AGcdS079q/Uvi1/aED2l5paacbQk712uW3DjFAHnH7P1943+HP7U3iT4ea54rfxJos1v9qgEsO1oiI9x5yepNfZNeF6X8D9dsf2or74jyXli2hz2hgS3G7zwxjC+mMZFe6UAFFJmloAac5PP4Unbjqetcz4r+I2heD5lt7y7RtRkXMVhGczTeyjvXKLqXjfx822wtP8AhFdGc4eS6BS9HuoGRQB2vibxro3hO1kn1G9VCgyYY/nmP0Qcn8q4dfFvjH4hKV8M2Q0PSZkzDrt0Az/T7O2COK3/AA18I9G0K5gv7vzNd1uHO3VdQw0/PbI4xXahW4PfuO1MDhPD/wAItJ0zUG1TU3k1rVZgPNkumLRFgOqxnIWu6hjSFRHGqxoowEUYApQpBPzE5/SlVce5xjJpXAdRRRQAUUUUAFFFFABRRRQAUUUUAFFFFADfSvPf2hf+SL+LP+vNv5ivQh2rz39ob/ki/iz/AK82/mKa3EzrfB//ACKeif8AXjB/6LWijwh/yKeif9eMH/otaKQzXooooAKKKKACo5F3MpI5Xkc1JSY5FAFDVNHsNYhMeoWkN1H1AnQNtPqM9D9K8+m+Fuo+Gbk3vg3W5dORpGluLS7BuFmz/Au4/IM+lenNGHI3DcOvNG0+tF7AebWPxbm0e6gsPF+kS6FeTcRvGTPG3OMllGF/GvQbHULXUIfNtLiO6iP/AC0hcMM/hTr7T7fUrSW1uoUuLeUbXjcZDCvPL34RPoky3Pg7VJ9AKMZP7NibFrM3+2OTj6VQHpY9OlLXltj8UdZ8M3EVl420R7WTBaTVtPQmwQD+87HIOK9D0XXtP8RWKXumXcV9av8AdmhbcpqbAX6KbuGARyPal3A5wc0Ac7qHgXQb/wAS2uv3WnQy6vbqY4bxkBeMHqAeuDXQHPTPJ6UNHuYNn/gPY0benAznNAD6KKKACiiigAooooAKKKaWCgk8AdzQA6ikDBulG4dByfSlYAP0zTd2Mknj1riPEfxf0TRp5LOxE2v6pG4SSw0sCSWPPdhngViNonjb4gbxql+PC2kE7ol01iLmQf3ZNwwPwqgOk8W/FPw/4RVUublrqd2CJBZoZm3HgBtudvPrXOLH498e4yE8G6asnMbFbiS7i7HIwYya6/wr8PdC8HySz6dYxx3s4Hn3WPnlI7n3romQnocE96AOR8K/C/QPCUIa2tmvLgnJuL5jPICTztZuR+FdYMggY+VehzT9p/vGk8vDccDOTjvQA+iiikAUUUUAFFFFABRRRQAUUUUAFFFFABRRRQAUUUUANHavPP2hv+SL+LP+vNv5ivQx2rzz9ob/AJIv4s/682/mKa3EzrvCH/Ip6J/14wf+i1oo8If8inon/XjB/wCi1opDNeiiigAooooAKKKKACiiigBD0ppY7chdxp9JtHXvQBXuraC6t2iuYUnhb70cqh1P1Brz7XPg/CL+TVPC9/L4f1cqAjKxa2HP/PHO2vSdo6jg0nljBHTNCA8xHxE17we3leLtIf7Cny/2takMJD6+WoyK7nQ/E2meIrWO4068jnRl3bAcP+K9R+NacirtwVDDpgiuB8RfB3Tb65mvtDupvDGry8ve6fgO/OcHPGKegHoIpa8rbxp4x8BsE8RaI+t6fuEcN1oyNLMF6F5gcAfhXa+F/HOieMopG0jUbe8eI7ZY43BaJu6sOxFFgN+im7u2OaXPOKQC0UnPakLe1ADqKbuOfbuaZcXUVrbvPNIsUKDc0jHAA9aAJaimkSGNnlZY4l5ZnOB+ted6j8Zra9uFs/CtjP4luJAVW8s032kTjjEjg8c1Wj8A+J/GEi3Pi/WTawfdfR9LfNtMvo24ZpgaOvfF7TbHUf7J0iOTXNakUmG1t1IjbHbzcbRWV/wiHiv4hKx8T6gdI0aVAG0az+WeNuv+vU5Nd/4d8LaR4RsUsdIsYbC2HIjiH+Nau0HBPODkUX7AYnh/wdpHhW3SPTrKON1GDcMoaVv95+p/Gtv9aXFG0ZzjmkAi4ycU6kpaACiiigAooooAKKKKACiiigAooooAKKKKACiiigAooooAKKKKAGjtXnn7Q3/JF/Fn/Xm38xXoY7V55+0N/wAkX8Wf9ebfzFNbiZ13hD/kU9E/68YP/Ra0UeEP+RT0T/rxg/8ARa0UhmvRRRQAUUUUAFFFFABRRRQAUUUUAFFFFADW9c8UnPpmn0mBnPegBjLlSvVejBua4fxJ8JNC8QXEd3bRyaPfQsZI5tPfyFZ/V1XG78a7vANGB1oA8sTXPHfgNdmr2ieLLFeZNQtAtuYU905LED0rrPC/xC0Lxjb79PvhuVsGOZTG+fTa2Ca6bAwDjFcl4n+GOieJrlb5rcWmqpzFqEHEsR9R2zTA61h0Jqve31vYQmW6njgjA6yOFH614p4k1r4i/C2TTtMsZrLxRZ3cyxJf6tIyzqWOOQoxxn9K6m1+ELa5Ibjxhqk+v7/n/s+Y/wCjwN/sYwcfWnYCO9+MMut3Elj4L0qXxDeQuEuJGzBHCD/Flxhvwot/hVqXia6S+8Z61LqEkcnmW9rYk28cYP8AA4Bw+PevR7OxttPtY4LaFYYIxtVEHAFWMevNFwM7TdHsdBtxBp9pb2EGRlYIgob6471f/i6ceuadtHpRtGMY4pAMUgnjrUlJS0gCiiigAooooAKKKKACiiigAooooAKKKKACiiigAooooAKKKKACiiigAooooAaO1eeftDf8kX8Wf9ebfzFehjtXnn7Q3/JF/Fn/AF5t/MU1uJnXeEP+RT0T/rxg/wDRa0UeEP8AkU9E/wCvGD/0WtFIZr0UUUAFFFFABRRRQAUUUUAFFFFABRRRQAUUUUAFFFFACGk7ccU6kYZGOlAHmHxgI+1+G2YEN9tjG3P+2K9N/iPcd680+MHy6h4cO3zP9MjG3v8AfHNembfmPUimAc+nFL0pD0pu31bK9wakCSios/NgHJ9DQy7vlyd2cgjtTAloqJW3Z7fzpfbk9waAJKKYvqPxp9ABRRRQAUUUUAFFFFABRRRQAUUUUAFFFFABRRRQAUUUUAFFFFABRRRQA0dq88/aG/5Iv4s/682/mK9DHavPP2hv+SL+LP8Arzb+YprcTOu8If8AIp6J/wBeMH/otaKPCH/Ip6J/14wf+i1opDNeiiigAooooAKKKKACiiigAooooAKKKKACiiigAooooAKSlooA8q+NkLXMmhRKxieS5RAynlcsOa+RP23fB/jf4A/DjV/G+mfEDVJ7ia5xBbefIFj3MO2eeDX2F8Yv+Qh4b/6/I/8A0MV4L/wVP0281b9mya3sLSa8umuk2RQJuY8r2pgdT+zv8HfE+hWuieONX8dXmuxyaf5z2Lu+wlkB6E4zUmn/ALd3gvV11yOwsL27vtKv30+W1jRmJlUgEZC4HWvWPhOjxfBfQoyhjZdLQbW4IIjGQfxr5r/4J16JPYXvxeN/YNbzTeLb2WMzR43RlhgjPakB7pq37SehaP8AFTwz4Cns5l1rX7Vru1Xdj5FALZ47ZrX8TfG7SvDnxY0TwBPbSyajqyB45lbAUHPXj2r5F/bC8Ty/Cf8AbT+E/jrU9D1PUPDkVnc2ctzYW5kETyMoBJ6AVval8SrT4nftw+B7jStH1iCzt7RCb2+tfKhkB3/cbJz1oA+hfHv7Rmm+F/Gn/CJaHpkninxPEu6fT7adYmiGMjcW46VN8HP2htM+LGtavoUli2ieIdLJM+mzTK7qoOM5HvXxfr3gnU/hd+3D401bxfJrGleHfFISex8QabD5kUflxgFZGbheT+le8/s9+Afhg3xq1fxB4W1PVNY8TGzH23U5owIJo933NwOM55oA+sVPztT6jjB4zhcfwipKACiiigAooooAKKKKACiiigAooooAKKKKACiiigAooooAKKKKACiiigBo7V55+0N/yRfxZ/15t/MV6GO1eeftDf8AJF/Fn/Xm38xTW4mdd4Q/5FPRP+vGD/0WtFHhD/kU9E/68YP/AEWtFIZr0UUUAFFFFABRRRQAUUUUAFFFFABRRRQAUUUUAFFFFABSUtIxwCaAPMfjF/x/eHT/AHb2L/0MV6HqWl2WrRCK+tIbyJTkLPGHAP0NeY/GTVrMah4eja7hSZbyMspcZA3DrXqkNxHdLuidZE7MpyKtppE8yEhtooIRDFGiQgYEarhQPTFQWei2OmtIbOzgtDKcyGGMIWPqcVcAp1QUZ2q+H9N1yNI9RsLa/RDlVuYlkA+gIpI/DelwzQTR6daJLbjETrCoMY9FOOK0qKAKGq6Fp+uQ+VqNlb38XaO5iEi/kag0Xwno3hwONK0qz00Sff8AssCx5/IVrUUAIBS0UUAFFFFABRRRQAUUUUAFFFFABRRRQAUUUUAFFFFABRRRQAUUUUAFFFFADR2rzz9ob/ki/iz/AK82/mK9DHavPP2hv+SL+LP+vNv5imtxM67wh/yKeif9eMH/AKLWijwh/wAinon/AF4wf+i1opDNeiiigAooooAKKKKACmbvm5OM8Cn15BpPx0uPFd1rA0DQ7i9g0zUJdNmkdGC+bGcNgii1xHru7npgU6vMV+JHiMEqPC7geoDUv/CyvEn/AEK8n5NT5Quj02ivMv8AhZPiT/oV5Pyaj/hZHiT/AKFaT8mo5Quem0V5l/wsjxJ/0K0n5NR/wsjxJ/0K0n5NRyhc9NorzL/hZHiT/oVpPyaj/hZHiT/oVpPyajlC56bSMMqR6jFeZ/8ACyPEn/QrSfk1H/CyPEvbwu+fcNRYD8+f2wtH8QeEPjdqFvb6jqgsrl1e2Zp2IPAJ2+mCa/QH9mrw3c+GfhDoUd3d3N5c3UC3Uj3Tl3BZRxk9q8Y+PfgHxF8YvFHhHV4dDe1bRLhZJo2Q4lTeGI6egr2mL4ha7bqsUHhSRI0UKihWACjoK3lLmjYyirSPTx0pa8x/4WV4k/6FeT8mpf8AhZPiT/oV5PyasLGx6bRXmX/CyPEn/QrSfk1H/CyPEn/QrSfk1HKK56bRXmX/AAsjxJ/0K0n5NR/wsjxJ/wBCtJ+TUcoXPTaK8y/4WR4k/wChWk/JqP8AhZHiT/oVpPyajlC56bRXmX/CyPEn/QrSfk1H/CyfEn/Qryfk1HKFz0p329eAe9N8xsgMNvPX1rziP4keI5JAo8LyAk45DdT0rT+F/wATrT4nafq8ttbzWc+kajJpt3FKmMTIBuxnqORzRYDuaKKKQwooooAKKKKACiiigAooooAKKKKACiiigAooooAaO1eeftDf8kX8Wf8AXm38xXoY7V55+0N/yRfxZ/15t/MU1uJnXeEP+RT0T/rxg/8ARa0UeEP+RT0T/rxg/wDRa0UhmvRRRQAUUUUAFFFFABXhn7KJ/wCJF4+A6f8ACY6l/wChLXudeF/spf8AID8ff9jjqX/oS1S2ZL3R7nS0nc0tSUFFFJQAtFFJmgBaKKKACikzRQAtFFFABRRRQAUUUlAC0UlFAC0UUUAFIaWkbpSYCeleHfsw/wDHz8VP+xyvv5JXuPpXh37MP/Hz8VP+xyvf5JVx2Yme5UtJS1IwooooAKKKKACiiigAooooAKKKKACiiigAooooAaO1eeftDf8AJF/Fn/Xm38xXoY7V55+0N/yRfxZ/15t/MU1uJnXeEP8AkU9E/wCvGD/0WtFHhD/kU9E/68YP/Ra0UhmvRRRQAUUUUAFFFFABXhf7KX/ID8ff9jjqX/oS17pXhf7KX/ID8ff9jjqX/oS1S2ZL6Hufc0tJ3NLUlCGkHp196U9DTNhKgA4x1pALuHPOSOtKee2R618mfEr/AIKIeE/h38V9e8AJ4a8ReINc0dljuI9H057jBZQw+72wa6n4A/tueCvj94uvvCVrYaxoHia0hE72Gs2TWzFCcDbuOSfbFMD6LXpS1DNdQ2se6eRYV6bnYAU6G4juIw8UiyIejKcg0AK3PbHuKF+uap6hfx6dbzOWjWRULRozYLkDp+deJ/s3/tRRftAeI/GWlxaT/Zw8N3kllLIWJ3yIwU8HtzQB73RSbhTY5FkyVOR0zQA+mt7nApdw25PA96gt763u2cQTxzFeqowOPrQBN3xjj1pPm5xw2OGNeKftI/tKWv7P9vocI0e61zVtZnFvaW1vGzAsWC5YjoMkc13fwv8AFGveLfDv27xFoqaFqXmmM2iSFxtGMNkjvQB1q/dJJ+X1704MOCOV9a8y+LPxK8UeA9f8NWWh+GP+Egs9Rl8u7uNzA2w3AZwB6E/lXL/tC/tR2fwR1vwv4dt9Kk1jxN4kuBbWVmAQhbBPLDp0NAHuyZ7nn2p9ct8ONe1rxN4Xtb7xBpcejao+fNs4nLqvPHJ9q6mgApG6UtI3SkwE9K8O/Zh/4+fip/2OV7/JK9x9K8O/Zh/4+fip/wBjle/ySrjsxM9ypaSlqRhRRRQAUUUUAFFFFABRRRQAUUUUAFFFFABRRRQA0dq88/aG/wCSL+LP+vNv5ivQx2rzz9ob/ki/iz/rzb+YprcTOu8If8inon/XjB/6LWijwh/yKeif9eMH/otaKQzXooooAKKKKACiiigArwv9lL/kB+Pv+xx1L/0Ja90rwv8AZS/5Afj7/scdS/8AQlqlsyX0Pc+5paTuaWpKCkHelpKQH5leCm8dR/8ABSj4xyeCJdM8wGMXEOoxM5f9wuCuCMY5re+F99dfDP8AbwlPxb01ZfG/im2WHRtR0zCWWwFnWPZywkAByelep+LP2FvFk3x68WfFHwR8X7/wTqniBlM9vBpsU6qoQLtBc89PTvXUfBr9i0+BfiWfiH428bXnxE8ZKojh1G+tlh8pB0VVU4GMnmmB434f1TWf2lv24fHXh3XfEOraX4W8JoLey03S7owCTfGGJlHIY56GrXwS8ca18Df2yPF3wkOs6n4m8L3Onf2raf2jOZpraRmYlQ3ZcLjFev8AjL9ke8t/jhe/FX4f+Kp/C2ualFs1WzS3WWO9baFVyW6EAdAOa0/gT+yjF8MfHev+PfE3iCbxj421oGJ9QuYVj+zwE5ESqDjAyeaAPmD9mHwhq/7YfiL4lfE3xX448SabZC4ksdN0XStQaGO0UBkLFORuymQfeq3/AATx8FXFxpPx78LWGrX0d2NRurSDVJJSbksrjDs/dj3Nev2n7CHi3wX8V/Emv/Dz4s33grw74iuVub7SLewjmU4GCgLHjOTyPWvSf2Xf2T4f2bdU8X3q+JZ/EL+ILyS8ka4gWIozMGI469KAPlH4X/tTax4Y/Y38W+D/ABF4guIPiXpN++gifUJi915lzI4hbPUkAjB+lfbf7MPgvV/BPwM8Ladr+r3mta21nHLeXd3IXcyso3AE84r4U1b9n/w/8av+Cll7Pp+jTf8ACPaQyX+qTOWSCa7jVWiZOzYINfp8Au3anygcDA6UAfHP/BRj4veJPAfh/wAF+F/D1/NpR8U6rBp9xfW7lJY45JAjbWHQ4avNv2oPBOs/sT6L4Q+I/g3xnr+qG3lisNX07WL8zx3kIH3kXj94SeTzxX1t+0Z+zhoH7RnhOLTNVlew1OzlW40/Uohue1mU5VwucHBwa8ib9iXxF8QvEnhi5+KvxEu/Gei+G1Q2elvapEk0yjHnOVPJI7HPSgDzT9sT4c2fjr4q/CDxHJ4h8RaZLrRgle1s70pFCCUPyLj5evNfdvhvw6nhfSYbCK8u75Y+POvpfNlYY6FsV5r8Xv2fYfih4m8GaqmpvpsfhuVXS2SMMJAGUgZ7fdr2HB3dcjHSgD5Z/a08VazoXxS+FVtpeq3dhDdXmJ4reUosq+YvDDuK8G/bN+G9rd/tz/BOdtZ1uM6vqKwyRx3WEgG1zuhH8LV9h/Gb4Bx/FrxZ4R1x9VksG8PziZYkjDCb5g2Ce3Ssb4ufsww/FT42fD/4gvr02nT+EboXUVmkIdbggEYLHp1oA9i8N6Gnh3SYNPjuri8jhGFmu5PMlb/ebvWrTQAGJ7mnUAFI3SlpG6UmAnpXh37MP/Hz8VP+xyvf5JXuPpXh37MP/Hz8VP8Ascr3+SVcdmJnuVLSUtSMKKKKACiiigAooooAKKKKACiiigAooooAKKKKAGjtXnn7Q3/JF/Fn/Xm38xXoY7V55+0N/wAkX8Wf9ebfzFNbiZ13hD/kU9E/68YP/Ra0UeEP+RT0T/rxg/8ARa0UhmvRRRQAUUUUAFFFFABXhf7KX/ID8ff9jjqX/oS17pXhn7KP/ID8f/8AY46l/wChLVLZky6HuXc0tJ60Z5qCgIzR1NHtRQAc0h+madRTAYT0PT2oB3ZJG33p1G0UAN43AgnP92hsHORTtoPFHTigDJ0/wxo+j3sl1ZadbWtzJkvJHGFZvxrTjbepIIpWjG3BHFFAAeOcbjSbfck9cU4cnNKQDQA3nGSDn0p33aKKAEx6GjnjHSlxRQAgxuPrTqSloAKRulFHWkAnpXh37MP/AB8/FT/scr3+SV7l6V4b+zD/AMfPxU/7HK9/klWtmSz3KlooqSgooooAKKKKACiiigAooooAKKKKACiiigAooooAaO1eeftDf8kX8Wf9ebfzFehjtXnn7Q3/ACRfxZ/15t/MU1uJnXeEP+RT0T/rxg/9FrRR4Q/5FPRP+vGD/wBFrRSGa9FFFABRRRQAUUUUAFeGfsp/8gPx9/2OOpf+hLXudeDeCfBfxA+F0niaz0jTrPVrTU9ZudVjlmuViKea2duPwqkJnvHrSfxV5edY+KSqFHhzTmbuxv1/wpf7Y+Kf/Quab/4Hr/hSsM9Rory7+2Pin/0Lmm/+B6/4Un9sfFP/AKFzTf8AwOX/AApctwPUqK8t/tj4p/8AQuab/wCBy/4Uf2x8U/8AoXNN/wDA5f8AClygepUV5b/bHxT/AOhc03/wOX/Cj+2Pin/0Lmm/+By/4UcoHqVJXl39sfFP/oXNN/8AA5f8KP7Y+KZ/5l3TR/2/L/hRygeo0V5eusfFEgD/AIR3TgSfvfb14/SuV8BfFn4ifEGPW3sfC+nw/wBk6nNpcytfD5pI8biMj3FVyiPeqBXl/wDbHxT/AOhd03/wPX/Ck/tj4p/9C5pv/gev+FLlGepUV5b/AGx8U/8AoXNN/wDA5f8ACj+2Pin/ANC5pv8A4HL/AIUuUD1KivLf7Y+Kf/Quab/4HL/hR/bHxT/6FzTf/A5f8KOUD1KivLf7Y+Kf/Quab/4HL/hR/bHxT/6FzTf/AAOX/CjlA9Sory7+2Pin/wBC5pv/AIHr/hR/bHxT/wChd03/AMD1/wAKqwHqHcV4b+zD/wAfPxU/7HK9/kldENZ+KSnJ8N6a2Ocfb159ulJ8Dfh/q3gXTfEs+tmNL7W9Zm1Zoo2DLD5gHyZHXGKZJ6lRSUtSUFFFFABRRRQAUUUUAFFFFABRRRQAUUUUAFFFFADR2rzz9ob/AJIv4s/682/mK9DHavPP2hv+SL+LP+vNv5imtxM67wh/yKeif9eMH/otaKPCH/Ip6J/14wf+i1opDNeiiigAooooAKKKKACmbT2Pen0UAMC/NkZA9O1PoooATvS0UUAFFFFABRRRQAUjfdpaRulADf4jx3rw79ljP2X4k5x/yOWodPqte5jvXhn7LH/Hp8Sf+xy1D+a1S+FslnuYNFH8NC1JQtFFFABRRRQAUUUUAFFFFADdvJ68/pTfL4xwV7571JRRqAUUUUAFFFFABRRRQAUUUUAFFFFABRRRQAUUUUAFFFFADR2rzz9ob/ki/iz/AK82/mK9DHavPP2hv+SL+LP+vNv5ihbgdd4Q/wCRT0T/AK8YP/Ra0UeD/wDkUtE/68YP/Ra0UAa9FFFABRRRQAUUUUAFFFFABRRRQAUUUUAFFFFABRRRQAUh6UtI3T0oAaGHXPB4FeHfss5W0+JOR/zOWofzWvbUxu6bWJ5HUV8q/Cb44eEPhLY/Ef8A4SbVI7CdvGF+VgQ+ZKykrhto5xxVwTkmkRJ2Pq/PGcUq18m+H/29tF8WfEy18O6ZpsaaRM2Dq13ciID6qelfSI+InhQf8zPo3/gfF/8AFUTpyg9QjJM6Kiud/wCFi+FP+hn0b/wYRf8AxVH/AAsXwp/0M+jf+DCL/wCKqLMs6Kiud/4WL4U/6GfRv/BhF/8AFUf8LF8Kf9DPo3/gwi/+KoswOiornf8AhYvhT/oZ9G/8GEX/AMVR/wALF8Kf9DPo3/gwi/8AiqLMDoqK53/hYvhT/oZ9G/8ABhF/8VR/wsXwp/0M+jf+DCL/AOKoswOiornf+Fi+FP8AoZ9G/wDBhF/8VR/wsXwp/wBDPo3/AIMIv/iqLMDoqK53/hYvhT/oZ9G/8GEX/wAVR/wsXwp/0M+jf+DCL/4qizA6Kiud/wCFi+FP+hn0b/wYRf8AxVH/AAsXwp/0M+jf+DCL/wCKoswOiornf+FjeFP+hn0b/wAGEX/xVH/CxfCn/Qz6N/4MIv8A4qizA6Kiud/4WL4U/wChn0b/AMGEX/xVH/CxfCn/AEM+jf8Agwi/+KoswOiornf+Fi+FP+hn0b/wYRf/ABVH/CxfCn/Qz6N/4MIv/iqLMDoqK53/AIWL4U/6GfRv/BhF/wDFUf8ACxfCn/Qz6N/4MIv/AIqizA6Kiud/4WL4U/6GfRv/AAYRf/FUf8LF8Kf9DPo3/gwi/wDiqLMDoqK53/hYvhT/AKGfRv8AwYRf/FUf8LF8Kf8AQz6N/wCDCL/4qizA6Edq87/aFyfgv4rwpJ+xtx+Irov+FieFMj/ip9G/8GEX/wAVXBfHnxx4c1L4QeKLaz8Q6XcXMlowjigvY3dzkcKobJPtTSYtD0jwiwXwnogPB+wwf+i1opvhHcvhPRAFz/oMHXg/6taKANqiiikMKKKKACiiigAooooAKKKKACiiigAooooAKKKKACkb7tLSN0oATaMnivjj4efs1+DPjZD8SbvXLRo9WXxdfQrqNvgTKilcLk9ua+yO5rwz9lvP2T4lY6/8JlqH80q4ScYtoiSvueK6N/wTzXQfiVZagt3Yax4WjbMtnf7mkcZHXAxX0Z/wy98J26+AdF9P+Pf/AOvXp/Rh2pV78Y5qpVJS3YKKXQ8u/wCGW/hN/wBCDov/AID/AP16P+GW/hN/0IOi/wDgP/8AXr1Ois7sqyPLP+GW/hN/0IOi/wDgP/8AXo/4Zb+E3/Qg6L/4D/8A169Toouwsjyz/hlv4Tf9CDov/gP/APXo/wCGW/hN/wBCDov/AID/AP169Toouwsjyz/hlv4Tf9CDov8A4D//AF6P+GW/hN/0IOi/+A//ANevU6KLsLI8s/4Zb+E3/Qg6L/4D/wD16P8Ahlv4Tf8AQg6L/wCA/wD9evU6KLsLI8s/4Zb+E3/Qg6L/AOA//wBej/hlv4Tf9CDov/gP/wDXr1Oii7CyPLP+GW/hN/0IOi/+A/8A9ej/AIZb+E3/AEIOi/8AgP8A/Xr1Oii7CyPLP+GW/hN/0IOi/wDgP/8AXo/4Zb+E3/Qg6L/4D/8A169Toouwsjyz/hlv4Tf9CDov/gP/APXo/wCGW/hN/wBCDov/AID/AP169Toouwsjyz/hlv4Tf9CDov8A4D//AF6P+GW/hN/0IOi/+A//ANevU6KLsLI8s/4Zb+E3/Qg6L/4D/wD16P8Ahlv4Tf8AQg6L/wCA/wD9evU6KLsLI8s/4Zb+E3/Qg6L/AOA//wBej/hlv4Tf9CDov/gP/wDXr1Oii7CyPLP+GW/hN/0IOi/+A/8A9ej/AIZb+E3/AEIOi/8AgP8A/Xr1Oii7CyPLP+GW/hN/0IOi/wDgP/8AXqaz/Zn+Fmn3cN1beBdHhuIW3xyLByreo5r02ii7CyI44VhjSOMbEQBVUdAB0FFSUUhhRRRQAUUUUAFFFFABRRRQAUUUUAFFFFABRRRQAUUUUAFI3SlpGXcpBoAYpPXnJPRq8O/ZaYG1+JOCG/4rLUAdvY5WvVPGXjbR/h/o/wDa2vXi2ViriMzMMgMx4FfPH7LHxi8Iyah4x0hdVQ6hq3iu9ubOHYQZY32lT+hqop8jJZ9SFjyTyB6dacvKg+tM54ONpqRQBnHrSKFooopAFFFFABRRRQAUUUUAFFFFABRRRQAUUUUAFFFFABRRRQAUUUUAFFFFABRRRQAUUUUAFFFFABRRRQAUUUUAFFFFABRSUZFAC0Um4ZxS0AFFJSbhjNADqKTrS0AFFFFABRRRQAUh6UbhSFhj60gPMv2jPh/b/Ej4Q67pVwpcxxG7jVepeMErXxB+wH8L4/EHxYvNYuopANAHmIz9BLnaV+vNfpTJGJomR1BVhtZTyCK4T4VfCHTPhWNe+wbWOrahLfOQuCu/+H6CumNTlpuJk4+9c773pab6etOrnNRaKSjcOlAC0Um4etFAC0UgYHOKKAFopAc0tABRSZoJxQAtFFFABRRRQAUUUUAFFFFABRRRQAUUUUAFFFFABRRRQAUUUUAFFFFABRRRQAUhA49e1LTX5HHB9aAEGTyeuOlNGMc5A7g968U/az+Pl3+zx4B0nXbHSxq1xqOsW2krEZBGFaYkBiT2GKl8K/ELxzf2V7d65b6fpVjHbiVbqG4iuCme5RTmgD2ZWGOm0ejdakHSvM9B+LmjaP8AC2x8V+I/EVvPYzuY1vxD5QkbcQFVOueMYqz4L+Pngz4ga1JpOjajLNqEcfmmCa2kiOz1+YD0oA9Epn8ROMe5rmvBXxK8P/EKTUk0K8N4dOlEFzmNk2Oc8cjnp2rjP2ivjZcfBXwjBdaVpH/CReItQm+zadpfnrCZ5OMgE+gyfwoA9Zz82P8A9dOr5Z8SftJeOPgj4p8Jx/EfQI38LeIZY7U6zbOiiyupCBHCyDlsknn2r2TxV8e/BXg3XJ9H1PVSmpQ2y3clvDC8rCJjgNhQeKAPQqK4rS/jJ4Q1jwUfFdtrMJ0MZ/fyfIcjPy7Tzu44GMmqfgf47+DviHqVxp+i6hJJewxec0FxbyQMU9QHAz+FAHoNFed6L8ffBPiKRE07VWuWZmT5IX4KnBB49apSftKeArfXRpE+pz294ZPKHnWcqJu9N5XH60Ael7irHkbT39KcpB9z3avnv4r/ALYug/Cf47eGPh5fabPcQatYzXtxqUQZvs+zBVQgHzZB6jpXd6D8RrfxJ8SP7P0/xJbyWraZHqI0l7UpMImJxIWPIB9DQB6X2o6c15g37S3w9GttpQ1vzJ1lEJkjgdoQ5OMeYBt6+9bPi74zeEvBN9b2Wran5N1cRCaGKONpC6noRgc0gO2FL96uP+HvxZ8L/FGG+k8N6kt+LFxHcrtKPExBIBUjI6GrHjf4k+Hvhzp8F5r+oLYx3D7IVwWklbGcKo5Jx2FAHUZ5xUbDc2eu3niuE0z43eFNe8I634g02+e5tNHge4uozC6SqqqWPyEBug9K8f8A2T/2npf2mNV17UtO1jOj2U7CPT5NNaFxFnCsZCBk89OtMD6cxt7AL3z60jDseR1YmuA8deMn0Xxt4Y0O316LTLjUd7C0ltjKbhVI3Yb+HGf1rxLQ/wBrqP4jftNan8NfD2rtpsekyG2uEn0t5PNmVsMokIwB79KAPq1W+UHjHbb0p3RulZXiPxNpvg3RJdU1i5W1soB+8lYcZ+lcBbftJeDdY0DW9S0u6urtNKtTdyhrOWPKA4+Usozz6UAeqilr5+/Zt/a/8O/H/wAAL4gFjdaJcqbgyWLo0uxInILbwMHIGcD6V2nhn9o/wF4s1y00ey1aRNQuztghuraSDzTjOF3gZPFAHpbY9M0e4r5u8K/tseHde+OnjL4eXem3VgmhT29tDqIRpBdvKucbQMoAeMmvSfF37Q3gXwTq0+nanq7C4gH777NA8yRHOMMyAhT7GgD0qiuF8TfGzwh4RXSW1LVPLXVYWnszFG0nmooBYjaDyM9Kwo/2oPh3No8mpprTtaxymF8W0m9GHqmMj6kUAer0Vyw+J3hxvCUfiUaih0eUZjnwfm9gOpPtWZ4K+N3hH4gXV3baPfyPc2sXnSw3Fu8LhBxkBgM/hQB3lJ7Yryf/AIam+G5Foy695kV1M0EcyQOYy6ttYFsYGDxzXFfFr9tfwl8JfjH4X8C6hDdTvrkCTpeW8DyJGjEgH5Qc9KAPozheKdVDR9Ztde02C/s2aS2mGUZkKH8jzV+gAooooAKKKKACiiigAooooAKKKKACiiigAooooAKa/HOM4p1IeeKAPmT9vj4W678XPhh4X0fQtPfUZoPE1hfXMSKSfIjclzx7V3cPwX8O+D/A2ry+HdBFtq99YiOQR7i7nrjBPrXsG0UFc+1AHxL8Q/hV4mv/ANmj4Yr/AMI9He3+g63De3mj6gGVii3DNlVHV8dAeOa6bwL48tPHX7W04WzfTdQtdDhd9LmXbLDGS2Cy9snivpvxZ4TsfGekNpuoNOtuzh91vKY3BHTDCsTwP8H/AAx8Pb+61DSrJm1O6QRzahdP5tw6A5CmQ84B7UAYPwRvrm+fxMk/g7/hEfKvFCsIygvOD8/PX/69cL+138G9Y+Ic3gHxdoQkuNT8E6m+pJp6jP2ncmwrjvX0YV3UUAfIPxq0XxF+1dH4P8Lx+GNW8NaZperWmrXt5qVv5WWgcNtQ9wea5e78SQ+B/wDgod43A0DVPEJbwLYxRW+nQecy/vW+Zh2B6Zr7mrnbX4f6HZ+ObvxfFZhdfu7RLKa6zy0KnKr9AaAPiHxj+y/468T/ALPM8enW32HV5vFNlr401iyywwwSMzKq/wB8gggV7J4A0r/hKPiPo+t6lpXjP+2bK3MZn1qySK2X5GAClevJ719ObRRQB87fs3+ALzwr8PNZu7vw81l4hMs7xC6jIZ23OV/A8V4l480P4hePfDt7b6vp3i681qK/Mi2i2a/YfK3DARh8xxzX3rt+YH0pcUAfHnx6+HfiK0/aS+E3xHtfDt3reh6HolxZ6hb6fD5lzvfbtG3p2roPC3w98Qat+194l8fnSbjT/D2s+B7bTbX7VGUkhmDsxRh0BANfUe38KKAPgP4b+CPFnw7/AGeD8HNS8E6le+JTqU0o1W3ty9m6yTM6yeYecqGFevTfCvW4vjJ8Mrm502S9s9H0uG2ur0KWQSKrA5P419PbaTb82cn86APlz9lv4W654F+O3x013UNNk0/SPEN/aTadlSAypEVb9a0v2n/BOtXfxA+F3jaw0EeJtO8Naqbq9swrNcQp5ZXfCo4L5OOeK+kiM0m0CgD5l8E+Gda8YfEzx942GiahoOmXmnNbW1jqMPlS3DmHbkp06j9a6H9jvwnqvhD4c6na61pU2kXzarMwjmi2M6YXDD1HWvesfjRj8aAPDfi54b1XVfjp8N9RtNMubvTrSOcXFxGmUhJZcbj2rE+D/gvWdF/aW+Imq32jTWumXcBNreNFiORvNB4b1xX0btoK54oA8z/aD0mz1z4Y3dpe6dqerQtPEfJ0mISXAYHhlX2rx74Q6Z451S81vRQuvP4W/s0wQ/8ACU2ywyK/I2qFHPavq3FGOc0AfGP7JeleMfhD+zzfeBZ/COo2viqxk1CaK9ktsW8geV3Ta3UnBGB61yusfD7xz8SPHnwO8QXFh4mkuvD2ui61iPWLVYkiTyiCYtvUZPevvjFGOMUAfHnhDwfr3wl/bE+JnifUPC2oar4f8WTWIsLrTLbzRCUjCs0mcYAJ7VyXg34UeJ/hZ4r+LWneJbTxLe6H4q1+41WBvDVsLiN4pCMLIX6HjkCvvDHGKNvTrxQB8uXXw6u49f8Ag/Hp2i6h/Y+nrdGdrqLDQbnBAk9Caf4V+Ft/Z/FL4q6hNoUy2uowSi1d4/klJcEbPevqCjbzmgD4h8dfBz4geIf2T/Cum+HYLrSPEGk64L2a1YFbgwLcl2CjuSo4HvXpPgaxHiL4hf2/c6R4yTV0sfJa41yySKFU5wqlepye9fSu3vRigD4O8HfAnxV4U/YkuPDF3oVzP4nbxBcXIt4Iy0oie7Zwwzzjacmu28ceBfEWgeI/hB4oHh291ix0S0ggvbSyt/NuUZQcnb6c+tfXdG3pyaAM3SdSGsaTDeLaTWYlAPkXabJF9iOxrSHQdqQqG60oG0YoAWiiigAooooAKKKKACiiigAooooAKKKKAP/Z)"
      ]
    },
    {
      "cell_type": "markdown",
      "metadata": {
        "id": "xKYTC9t-Y4Ck"
      },
      "source": [
        "###ให้ตัวแปร score มีค่า 60 แล้วใช้ if เช็คเงื่อนไขว่า ถ้า score มากกว่า 50 ให้พิมพ์คำว่า pass และพอออกจากเงื่อนไขแล้วให้พิมพ์คำว่า this is alway print\n",
        "แล้วลองเปลี่ยนค่าตัวแปรเป็น 40 แล้วลองเช็คดูอีกที"
      ]
    },
    {
      "cell_type": "code",
      "metadata": {
        "id": "jPDxUbt5Vyqj"
      },
      "source": [
        "score = 34"
      ],
      "execution_count": 96,
      "outputs": []
    },
    {
      "cell_type": "code",
      "metadata": {
        "id": "UClROHD9WCOY",
        "colab": {
          "base_uri": "https://localhost:8080/"
        },
        "outputId": "ca9a8dfc-8ab3-426a-cac8-6418ea6a6cd8"
      },
      "source": [
        "if score > 50:\n",
        "  print(\"pass\")\n",
        "print(\"this is alway print\")"
      ],
      "execution_count": 97,
      "outputs": [
        {
          "output_type": "stream",
          "text": [
            "this is alway print\n"
          ],
          "name": "stdout"
        }
      ]
    },
    {
      "cell_type": "markdown",
      "metadata": {
        "id": "hVIba5EmWOAo"
      },
      "source": [
        "##Excercise :\n",
        "ให้ a = 5\n",
        "แล้วสร้างเงื่อนไขว่า ถ้า a มากกว่า 0 พิมพ์คำว่า positive number\n",
        "และเมื่อหลุดจากเงื่อนไขแล้วให้พิมพ์คำว่า this is alway print<br>\n",
        "ต่อมาลองเปลี่ยน a เป็น -5 แล้วดูผลลัพธ์"
      ]
    },
    {
      "cell_type": "code",
      "metadata": {
        "id": "c__Ff2xqWk9P"
      },
      "source": [
        "a = 5"
      ],
      "execution_count": 98,
      "outputs": []
    },
    {
      "cell_type": "code",
      "metadata": {
        "id": "BDwUNWPWWsN_",
        "colab": {
          "base_uri": "https://localhost:8080/"
        },
        "outputId": "30941c69-c07b-4e6f-9bc3-e8950b3124c4"
      },
      "source": [
        "if a>0 :\n",
        "  print(\"positive number\")\n",
        "print(\"this is alway print\")"
      ],
      "execution_count": 99,
      "outputs": [
        {
          "output_type": "stream",
          "text": [
            "positive number\n",
            "this is alway print\n"
          ],
          "name": "stdout"
        }
      ]
    },
    {
      "cell_type": "markdown",
      "metadata": {
        "id": "ac5XWAzGW1Xt"
      },
      "source": [
        "### การกำหนดเงื่อนไขที่มี 2 ทางเลือก\n",
        "- ในกรณีที่เราต้องการกำหนดเงื่อนไขที่มี 2 ทางเลือก เราสามารถใช้คำสั่ง `if ... else ...` (else แปลว่า 'ไม่เช่นนั้น') ได้\n",
        "- รูปแบบของเงื่อนไขที่มี 2 ทางเลือก\n",
        "\n",
        "```python\n",
        "if <test condition> :\n",
        "    <body of if>\n",
        "else:\n",
        "    <body of else>\n",
        "```\n",
        "\n",
        "- ความหมายของคำสั่งนี้คือ ถ้าเงื่อนไขนี้เป็นจริง ก็ให้ทำกระบวนการที่ 1 ไม่เช่นนั้นก็ให้ทำกระบวนการที่ 2 แทน\n",
        "\n"
      ]
    },
    {
      "cell_type": "markdown",
      "metadata": {
        "id": "VvjxKifzkkiq"
      },
      "source": [
        "![if2.jpg](data:image/jpeg;base64,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)"
      ]
    },
    {
      "cell_type": "markdown",
      "metadata": {
        "id": "NWZmHf18ZILX"
      },
      "source": [
        "###ให้ตัวแปร score มีค่า 60 <br>\n",
        "แล้วใช้ if เช็คเงื่อนไขว่า ถ้า score มากกว่า 50 ให้พิมพ์คำว่า pass <br>ถ้าไม่ใช่ ให้พิมพ์คำว่า fail<br>\n",
        "แล้วลองเปลี่ยน score ให้เป็นค่า 40 ดู แล้วเช็คอีกที"
      ]
    },
    {
      "cell_type": "code",
      "metadata": {
        "id": "veh5EgmGXTlq"
      },
      "source": [
        "score = 100"
      ],
      "execution_count": 105,
      "outputs": []
    },
    {
      "cell_type": "code",
      "metadata": {
        "id": "oCq8vCjmXWlu",
        "colab": {
          "base_uri": "https://localhost:8080/"
        },
        "outputId": "c567eaab-a97a-4845-ae23-3343dc44a589"
      },
      "source": [
        "if score > 50:\n",
        "  print(\"pass\")\n",
        "else :\n",
        "  print(\"fail\")"
      ],
      "execution_count": 106,
      "outputs": [
        {
          "output_type": "stream",
          "text": [
            "pass\n"
          ],
          "name": "stdout"
        }
      ]
    },
    {
      "cell_type": "markdown",
      "metadata": {
        "id": "hYGOKp7_Xjeo"
      },
      "source": [
        "##Excercise :\n",
        "ให้ a = 5<br>\n",
        "แล้วสร้างเงื่อนไขว่า ถ้า a มากกว่า 0 พิมพ์คำว่า positive number<br>\n",
        "แต่ถ้าไม่ใช่ ให้พิมพ์คำว่า negative number<br>\n",
        "หลังจากทำได้แล้ว ลองเปลี่ยนค่า a = -5 ดุูแล้วลองทดสอบอีกที\n"
      ]
    },
    {
      "cell_type": "code",
      "metadata": {
        "id": "MAOzBkqnXvQu"
      },
      "source": [
        "a = 5"
      ],
      "execution_count": 103,
      "outputs": []
    },
    {
      "cell_type": "code",
      "metadata": {
        "id": "h3UHxsOGXyI0",
        "colab": {
          "base_uri": "https://localhost:8080/"
        },
        "outputId": "c679d643-2fa4-4f88-ff5e-b16f6e45ba36"
      },
      "source": [
        "if a>0 :\n",
        "  print(\"positive number\")\n",
        "else :\n",
        "  print(\"negative number\")"
      ],
      "execution_count": 104,
      "outputs": [
        {
          "output_type": "stream",
          "text": [
            "positive number\n"
          ],
          "name": "stdout"
        }
      ]
    },
    {
      "cell_type": "markdown",
      "metadata": {
        "id": "fAU-yXsHYhns"
      },
      "source": [
        "###if กรณีที่ 3 แบบ มีการกำหนดเงื่อนไขที่มีหลายทางเลือก\n",
        "- ในกรณีที่เราต้องการกำหนดเงื่อนไขที่มีหลายทางเลือก เราสามารถใช้คำสั่ง `if ... elif  ...` . else ได้\n",
        "- รูปแบบของเงื่อนไขที่มี 3 ทางเลือก\n",
        "```python\n",
        "if test condition1:\n",
        "    body of if\n",
        "elif test condition2:\n",
        "    body of elif\n",
        "else :\n",
        "    body of else\n",
        "```"
      ]
    },
    {
      "cell_type": "markdown",
      "metadata": {
        "id": "i3az7lEGnuJw"
      },
      "source": [
        "![if3.jpg](data:image/jpeg;base64,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)"
      ]
    },
    {
      "cell_type": "markdown",
      "metadata": {
        "id": "9NEC5DP6ZcvL"
      },
      "source": [
        "###ให้ตัวแปร score มีค่า 90 แล้วใช้ if เช็คเงื่อนไขว่า <br>\n",
        "ถ้า score มากกว่า 80 ให้พิมพ์คำว่า very good <br>\n",
        "แต่ถ้ามากกว่า 50 (แต่ยังคงน้อยกว่า 80) ให้พิมพ์คำว่า pass<br>\n",
        " ถ้าไม่ใช่ (คือน้อยกว่าหรือเท่ากับ 50 ให้พิมพ์คำว่า fail)"
      ]
    },
    {
      "cell_type": "code",
      "metadata": {
        "id": "myuZbvLNZ2ak"
      },
      "source": [
        "score = 100"
      ],
      "execution_count": 112,
      "outputs": []
    },
    {
      "cell_type": "code",
      "metadata": {
        "id": "wWL4K6-vZ40I",
        "colab": {
          "base_uri": "https://localhost:8080/"
        },
        "outputId": "1d06322e-120a-446b-c188-24c8133e4f78"
      },
      "source": [
        "if score > 80:\n",
        "  print(\"very good\")\n",
        "elif score > 50:\n",
        "  print(\"pass\")\n",
        "else :\n",
        "  print(\"fail\")"
      ],
      "execution_count": 113,
      "outputs": [
        {
          "output_type": "stream",
          "text": [
            "very good\n"
          ],
          "name": "stdout"
        }
      ]
    },
    {
      "cell_type": "markdown",
      "metadata": {
        "id": "jGPMOUc6aP6E"
      },
      "source": [
        "##Excercise :\n",
        "ให้ a = 5\n",
        "แล้วสร้างเงื่อนไขว่า ถ้า a มากกว่า 0 พิมพ์คำว่า positive number<br>\n",
        "ถ้า a เท่ากับ 0 ให้พิมพ์คำว่า zero number<br>\n",
        "แต่ถ้าน้อยกว่า 0 ให้พิมพ์คำว่า negative number<br>\n",
        "หลังจากนั้นลองเปลี่ยนค่า a เป็น 0 และต่อมาเป็น -5 แล้วลองทดสอบดู"
      ]
    },
    {
      "cell_type": "code",
      "metadata": {
        "id": "BnXJKuvLbTi-"
      },
      "source": [
        "a = -5"
      ],
      "execution_count": 117,
      "outputs": []
    },
    {
      "cell_type": "code",
      "metadata": {
        "id": "utQKd5XebT2P",
        "colab": {
          "base_uri": "https://localhost:8080/"
        },
        "outputId": "fd3996f3-eca0-4ecc-de09-d71b8ab2119e"
      },
      "source": [
        "if a > 0:\n",
        "  print(\"positive number\")\n",
        "elif a == 0:\n",
        "  print(\"zero number\")\n",
        "else :\n",
        "  print(\"negative number\")"
      ],
      "execution_count": 118,
      "outputs": [
        {
          "output_type": "stream",
          "text": [
            "negative number\n"
          ],
          "name": "stdout"
        }
      ]
    },
    {
      "cell_type": "markdown",
      "metadata": {
        "id": "ECIcxRh5kxQu"
      },
      "source": [
        "# การวนลูป\n"
      ]
    },
    {
      "cell_type": "markdown",
      "metadata": {
        "id": "SyrfGPyVqXdp"
      },
      "source": [
        "พิจารณา\n",
        "print(1) ได้ 1<br>\n",
        "print(2) ได้ 2<br>\n",
        "print(3) ได้ 3<br>\n",
        "print(4) ได้ 4<br>\n",
        "print(5) ได้ 5<br>"
      ]
    },
    {
      "cell_type": "markdown",
      "metadata": {
        "id": "JD51M2Lmqztc"
      },
      "source": [
        "##การวนลูปด้วย while"
      ]
    },
    {
      "cell_type": "code",
      "metadata": {
        "id": "0OvFBVANrJjb",
        "colab": {
          "base_uri": "https://localhost:8080/"
        },
        "outputId": "b222f7ec-a00f-4aa1-f29e-47a4a7c608c9"
      },
      "source": [
        "count = 1\n",
        "while count <= 5:\n",
        "  print(count)\n",
        "  count = count + 1\n",
        "  #count += 1"
      ],
      "execution_count": 119,
      "outputs": [
        {
          "output_type": "stream",
          "text": [
            "1\n",
            "2\n",
            "3\n",
            "4\n",
            "5\n"
          ],
          "name": "stdout"
        }
      ]
    },
    {
      "cell_type": "markdown",
      "metadata": {
        "id": "58LitzZXrkvp"
      },
      "source": [
        "##Excercise ให้พิมพ์ค่าจาก 5 ถึง 20 โดยใช้ while loop"
      ]
    },
    {
      "cell_type": "code",
      "metadata": {
        "id": "h5K6tU4srxZf",
        "colab": {
          "base_uri": "https://localhost:8080/"
        },
        "outputId": "3355d6cc-a4b0-481a-e9ae-a842bb7fa03e"
      },
      "source": [
        "count = 5\n",
        "while count <=20:\n",
        "  print(count)\n",
        "  count = count + 1\n",
        "  #count += 1   python  does not have  count++"
      ],
      "execution_count": 120,
      "outputs": [
        {
          "output_type": "stream",
          "text": [
            "5\n",
            "6\n",
            "7\n",
            "8\n",
            "9\n",
            "10\n",
            "11\n",
            "12\n",
            "13\n",
            "14\n",
            "15\n",
            "16\n",
            "17\n",
            "18\n",
            "19\n",
            "20\n"
          ],
          "name": "stdout"
        }
      ]
    },
    {
      "cell_type": "markdown",
      "metadata": {
        "id": "wetLf8kusCBS"
      },
      "source": [
        "##Excercise ให้พิมพ์เลขคู่จาก 1 ถึง 20 โดยใช้ while loop"
      ]
    },
    {
      "cell_type": "code",
      "metadata": {
        "id": "i11Slq2qsd5u"
      },
      "source": [
        "count = 2\n",
        "while count <= 20:\n",
        "  print(count)\n",
        "  count += 2"
      ],
      "execution_count": null,
      "outputs": []
    },
    {
      "cell_type": "markdown",
      "metadata": {
        "id": "VP1UNc98tS6E"
      },
      "source": [
        "##การวน loop ไม่รู้จบโดยใช้ \n",
        "while True:"
      ]
    },
    {
      "cell_type": "markdown",
      "metadata": {
        "id": "7etsP15NtjCO"
      },
      "source": [
        "##การออกจาก loop โดยใช้ break\n",
        "   break"
      ]
    },
    {
      "cell_type": "code",
      "metadata": {
        "id": "j1C6WPpSttra",
        "colab": {
          "base_uri": "https://localhost:8080/"
        },
        "outputId": "f61f03d5-f620-4ea3-8f29-c9109f794a78"
      },
      "source": [
        "count = 1\n",
        "while True:\n",
        "  print(count)\n",
        "  count = count + 1\n",
        "  if count > 10:\n",
        "    break\n",
        "  "
      ],
      "execution_count": 121,
      "outputs": [
        {
          "output_type": "stream",
          "text": [
            "1\n",
            "2\n",
            "3\n",
            "4\n",
            "5\n",
            "6\n",
            "7\n",
            "8\n",
            "9\n",
            "10\n"
          ],
          "name": "stdout"
        }
      ]
    },
    {
      "cell_type": "markdown",
      "metadata": {
        "id": "rzr1u4SCs1o-"
      },
      "source": [
        "##การวนลูปด้วย for"
      ]
    },
    {
      "cell_type": "code",
      "metadata": {
        "id": "OE313TDSs8_a",
        "colab": {
          "base_uri": "https://localhost:8080/"
        },
        "outputId": "b88d50e7-3bd1-4186-d448-a0faed4ad09b"
      },
      "source": [
        "for i in 1,2,3,4,5:\n",
        "  print(i)"
      ],
      "execution_count": 123,
      "outputs": [
        {
          "output_type": "stream",
          "text": [
            "1\n",
            "2\n",
            "3\n",
            "4\n",
            "5\n"
          ],
          "name": "stdout"
        }
      ]
    },
    {
      "cell_type": "code",
      "metadata": {
        "id": "G2JlIuL3vu9M"
      },
      "source": [
        "for i in range(1,6):\n",
        "  print(i)"
      ],
      "execution_count": null,
      "outputs": []
    },
    {
      "cell_type": "markdown",
      "metadata": {
        "id": "4NCFR4rZv167"
      },
      "source": [
        "##range(begin,end,step)\n",
        "begin คือ ค่าแรก ถ้าไม่ใส่ถือว่าเป็น 0<br>\n",
        "end คือ ค่าสุดท้าย ซึ่งค่าที่วิ่งถึงคือ end-1<br>\n",
        "step คือ ค่าที่เพิ่มขึ้นหรือลดลงต่อครั้ง ถ้าไม่ใส่ถือว่าเป็น 1<br>\n",
        "##Example<br>\n",
        "range(6) จะได้ 0,1,2,3,4,5<br>\n",
        "range(1,6) จะได้ 1,2,3,4,5<br>\n",
        "range(2,11,2) จะได้ 2,4,6,8,10<br>\n",
        "range(10,5,-1) จะได้ 10,9,8,7,6\n"
      ]
    },
    {
      "cell_type": "markdown",
      "metadata": {
        "id": "LZUB9zJPxt-C"
      },
      "source": [
        "##Excercise จงพิมพ์คำว่า liza สิบครั้ง โดยใช้ for loop"
      ]
    },
    {
      "cell_type": "code",
      "metadata": {
        "id": "-souVNkOxtEP",
        "colab": {
          "base_uri": "https://localhost:8080/"
        },
        "outputId": "e484dc36-17a1-416c-833d-48f4088d1bc0"
      },
      "source": [
        "for i in range(10):\n",
        "  print(\"liza\")"
      ],
      "execution_count": 124,
      "outputs": [
        {
          "output_type": "stream",
          "text": [
            "liza\n",
            "liza\n",
            "liza\n",
            "liza\n",
            "liza\n",
            "liza\n",
            "liza\n",
            "liza\n",
            "liza\n",
            "liza\n"
          ],
          "name": "stdout"
        }
      ]
    },
    {
      "cell_type": "markdown",
      "metadata": {
        "id": "F8PEVGDnktNu"
      },
      "source": [
        "### Excercise ให้พิมพ์เลขคู๋จาก 1 ถึง 20 โดยใช้ for loop"
      ]
    },
    {
      "cell_type": "code",
      "metadata": {
        "id": "-3ewtA3zksS3",
        "colab": {
          "base_uri": "https://localhost:8080/"
        },
        "outputId": "3bc16c26-c441-4998-d946-49a4fe0faf83"
      },
      "source": [
        "for i in range(2,21,2):\n",
        "  print(i)"
      ],
      "execution_count": 125,
      "outputs": [
        {
          "output_type": "stream",
          "text": [
            "2\n",
            "4\n",
            "6\n",
            "8\n",
            "10\n",
            "12\n",
            "14\n",
            "16\n",
            "18\n",
            "20\n"
          ],
          "name": "stdout"
        }
      ]
    },
    {
      "cell_type": "markdown",
      "metadata": {
        "id": "q7EJZ4JmZt9t"
      },
      "source": [
        "## ชนิดของข้อมูล \n",
        "#4.List\n",
        "\n",
        "\n",
        "- ลิสต์ (list) คือรายการของข้อมูล\n",
        "- ลิสต์ใช้สัญลักษณ์ `[ ]` คั่นด้วยเครื่องหมายคอมมา `,`\n",
        "\n",
        "- เราสามารถนำลิสต์มาเก็บในตัวแปรได้ ทำให้ตัวแปรเดียวสามารถเก็บค่าไว้ได้หลายค่า "
      ]
    },
    {
      "cell_type": "code",
      "metadata": {
        "id": "ZPbOdQIglRbt"
      },
      "source": [
        "a = [10,20,30,40,50]"
      ],
      "execution_count": 127,
      "outputs": []
    },
    {
      "cell_type": "code",
      "metadata": {
        "id": "bO4DBdeNzXlk",
        "colab": {
          "base_uri": "https://localhost:8080/"
        },
        "outputId": "1e679f6c-dbdf-4f25-da84-999a3984f3f2"
      },
      "source": [
        "a[0]"
      ],
      "execution_count": 128,
      "outputs": [
        {
          "output_type": "execute_result",
          "data": {
            "text/plain": [
              "10"
            ]
          },
          "metadata": {
            "tags": []
          },
          "execution_count": 128
        }
      ]
    },
    {
      "cell_type": "code",
      "metadata": {
        "id": "L3SHv9wDzaOD",
        "colab": {
          "base_uri": "https://localhost:8080/"
        },
        "outputId": "acce5677-077e-46c7-b60a-e65b109cff14"
      },
      "source": [
        "a[1]"
      ],
      "execution_count": 129,
      "outputs": [
        {
          "output_type": "execute_result",
          "data": {
            "text/plain": [
              "20"
            ]
          },
          "metadata": {
            "tags": []
          },
          "execution_count": 129
        }
      ]
    },
    {
      "cell_type": "code",
      "metadata": {
        "id": "x9_ZgpX4zfvu",
        "colab": {
          "base_uri": "https://localhost:8080/",
          "height": 164
        },
        "outputId": "483d72a5-1701-4d44-e812-35261eb19bc8"
      },
      "source": [
        "a[5]"
      ],
      "execution_count": 130,
      "outputs": [
        {
          "output_type": "error",
          "ename": "IndexError",
          "evalue": "ignored",
          "traceback": [
            "\u001b[0;31m---------------------------------------------------------------------------\u001b[0m",
            "\u001b[0;31mIndexError\u001b[0m                                Traceback (most recent call last)",
            "\u001b[0;32m<ipython-input-130-4a84d856522b>\u001b[0m in \u001b[0;36m<module>\u001b[0;34m()\u001b[0m\n\u001b[0;32m----> 1\u001b[0;31m \u001b[0ma\u001b[0m\u001b[0;34m[\u001b[0m\u001b[0;36m5\u001b[0m\u001b[0;34m]\u001b[0m\u001b[0;34m\u001b[0m\u001b[0;34m\u001b[0m\u001b[0m\n\u001b[0m",
            "\u001b[0;31mIndexError\u001b[0m: list index out of range"
          ]
        }
      ]
    },
    {
      "cell_type": "code",
      "metadata": {
        "id": "u5VeAEHnzijw"
      },
      "source": [
        "a[1] = 25"
      ],
      "execution_count": 132,
      "outputs": []
    },
    {
      "cell_type": "code",
      "metadata": {
        "id": "krAnDl7hzmO8",
        "colab": {
          "base_uri": "https://localhost:8080/"
        },
        "outputId": "6940d653-008b-457c-a972-a7a7330425ec"
      },
      "source": [
        "a[1]"
      ],
      "execution_count": 133,
      "outputs": [
        {
          "output_type": "execute_result",
          "data": {
            "text/plain": [
              "25"
            ]
          },
          "metadata": {
            "tags": []
          },
          "execution_count": 133
        }
      ]
    },
    {
      "cell_type": "code",
      "metadata": {
        "id": "x1R-qerx38LO",
        "colab": {
          "base_uri": "https://localhost:8080/"
        },
        "outputId": "44346d0a-62e3-43d7-dcdc-702f070d52b5"
      },
      "source": [
        "a[-1]"
      ],
      "execution_count": 134,
      "outputs": [
        {
          "output_type": "execute_result",
          "data": {
            "text/plain": [
              "50"
            ]
          },
          "metadata": {
            "tags": []
          },
          "execution_count": 134
        }
      ]
    },
    {
      "cell_type": "markdown",
      "metadata": {
        "id": "4iUYkAds0JxH"
      },
      "source": [
        "##การหาจำนวนสมาชิกของ list โดยคำสั่ง\n",
        "##len (ย่อมาจาก length)"
      ]
    },
    {
      "cell_type": "code",
      "metadata": {
        "id": "_huFSIjm0Wab",
        "colab": {
          "base_uri": "https://localhost:8080/"
        },
        "outputId": "f9c09753-e902-46da-95dc-641c4b1397f0"
      },
      "source": [
        "len(a)"
      ],
      "execution_count": 135,
      "outputs": [
        {
          "output_type": "execute_result",
          "data": {
            "text/plain": [
              "5"
            ]
          },
          "metadata": {
            "tags": []
          },
          "execution_count": 135
        }
      ]
    },
    {
      "cell_type": "markdown",
      "metadata": {
        "id": "JSyGOFcP0gCk"
      },
      "source": [
        "##Exercise จงเอาความสูงของนักเรียนไปใส่ใน list โดยใช้ชื่อตัวแปลว่า student_heights\n",
        "120,132,150,160,165,175<br>\n",
        "และให้นับจำนวนด้วยว่า มีนักเรียนกี่คน<br>"
      ]
    },
    {
      "cell_type": "code",
      "metadata": {
        "id": "-ydF278g0_-t"
      },
      "source": [
        "student_heights = [120,132,150,160,165,175]"
      ],
      "execution_count": 136,
      "outputs": []
    },
    {
      "cell_type": "code",
      "metadata": {
        "id": "g9mhexqR1Amp",
        "colab": {
          "base_uri": "https://localhost:8080/"
        },
        "outputId": "d831c36a-73d3-4136-d023-47289da4a437"
      },
      "source": [
        "len(student_heights)"
      ],
      "execution_count": 137,
      "outputs": [
        {
          "output_type": "execute_result",
          "data": {
            "text/plain": [
              "6"
            ]
          },
          "metadata": {
            "tags": []
          },
          "execution_count": 137
        }
      ]
    },
    {
      "cell_type": "markdown",
      "metadata": {
        "id": "YWJpz9MT1HH_"
      },
      "source": [
        "###จงพิมพ์ความสูงของนักเรียนคนที่ index ที่ 2"
      ]
    },
    {
      "cell_type": "code",
      "metadata": {
        "id": "WCgxJFCS1RRw",
        "colab": {
          "base_uri": "https://localhost:8080/"
        },
        "outputId": "56b1bb6b-8eb2-4810-dbd5-b4cfd78605e5"
      },
      "source": [
        "student_heights[2]"
      ],
      "execution_count": 138,
      "outputs": [
        {
          "output_type": "execute_result",
          "data": {
            "text/plain": [
              "150"
            ]
          },
          "metadata": {
            "tags": []
          },
          "execution_count": 138
        }
      ]
    },
    {
      "cell_type": "markdown",
      "metadata": {
        "id": "HgV5EMg72ny7"
      },
      "source": [
        "### จงเปลี่ยนค่าความสูงของนักเรียนคนที่ index ที่ 0 เป็น 125 แล้ว พิมพ์ค่าความสูงของนักเรียนทั้งหมดออกมาที่หน้าจอ"
      ]
    },
    {
      "cell_type": "code",
      "metadata": {
        "id": "1nVB2oDCRozv"
      },
      "source": [
        "student_heights[0] = 125"
      ],
      "execution_count": 140,
      "outputs": []
    },
    {
      "cell_type": "code",
      "metadata": {
        "id": "xe675xn_R5ge",
        "colab": {
          "base_uri": "https://localhost:8080/"
        },
        "outputId": "ddb313a4-f070-42dc-d0c6-f3d2771cba57"
      },
      "source": [
        "student_heights"
      ],
      "execution_count": 141,
      "outputs": [
        {
          "output_type": "execute_result",
          "data": {
            "text/plain": [
              "[125, 132, 150, 160, 165, 175]"
            ]
          },
          "metadata": {
            "tags": []
          },
          "execution_count": 141
        }
      ]
    },
    {
      "cell_type": "markdown",
      "metadata": {
        "id": "iT237KhS3DvL"
      },
      "source": [
        "## ตัวแปรแบบ List สามารถมีสมาชิกได้หลายๆชนิด"
      ]
    },
    {
      "cell_type": "code",
      "metadata": {
        "id": "G6HxXk_L3OSP"
      },
      "source": [
        "a = [1,2.5,'liza']"
      ],
      "execution_count": 145,
      "outputs": []
    },
    {
      "cell_type": "code",
      "metadata": {
        "id": "YqwNLYJ63UlB",
        "colab": {
          "base_uri": "https://localhost:8080/",
          "height": 34
        },
        "outputId": "6ff96e34-9232-4830-ee46-974f0a0ff998"
      },
      "source": [
        "a[2]"
      ],
      "execution_count": 146,
      "outputs": [
        {
          "output_type": "execute_result",
          "data": {
            "application/vnd.google.colaboratory.intrinsic+json": {
              "type": "string"
            },
            "text/plain": [
              "'liza'"
            ]
          },
          "metadata": {
            "tags": []
          },
          "execution_count": 146
        }
      ]
    },
    {
      "cell_type": "markdown",
      "metadata": {
        "id": "nCC6guBn3aWX"
      },
      "source": [
        "## List Method"
      ]
    },
    {
      "cell_type": "markdown",
      "metadata": {
        "id": "-Fnt5aQV3vpb"
      },
      "source": [
        "### append  เพิ่มสมาชิกต่อท้ายใน list"
      ]
    },
    {
      "cell_type": "code",
      "metadata": {
        "id": "TNYlLss435d9"
      },
      "source": [
        "namelist = [\"somsak\",\"somchai\",\"somsri\"]"
      ],
      "execution_count": 147,
      "outputs": []
    },
    {
      "cell_type": "code",
      "metadata": {
        "id": "x272khB_4Cjj"
      },
      "source": [
        "namelist.append(\"somsanook\")"
      ],
      "execution_count": 148,
      "outputs": []
    },
    {
      "cell_type": "code",
      "metadata": {
        "id": "N9tggi384HWL",
        "colab": {
          "base_uri": "https://localhost:8080/"
        },
        "outputId": "7fe61a0f-695f-4192-e9a9-8ef1e223ec50"
      },
      "source": [
        "namelist"
      ],
      "execution_count": 149,
      "outputs": [
        {
          "output_type": "execute_result",
          "data": {
            "text/plain": [
              "['somsak', 'somchai', 'somsri', 'somsanook']"
            ]
          },
          "metadata": {
            "tags": []
          },
          "execution_count": 149
        }
      ]
    },
    {
      "cell_type": "markdown",
      "metadata": {
        "id": "_sfAI4vL4Kr1"
      },
      "source": [
        "### pop ลบสมาชิกตัวสุดท้ายออกจาก list"
      ]
    },
    {
      "cell_type": "code",
      "metadata": {
        "id": "xCAr83bA4ZCo",
        "colab": {
          "base_uri": "https://localhost:8080/",
          "height": 34
        },
        "outputId": "4898669c-05aa-49d0-e0f7-c3fe679aa04b"
      },
      "source": [
        "namelist.pop()"
      ],
      "execution_count": 150,
      "outputs": [
        {
          "output_type": "execute_result",
          "data": {
            "application/vnd.google.colaboratory.intrinsic+json": {
              "type": "string"
            },
            "text/plain": [
              "'somsanook'"
            ]
          },
          "metadata": {
            "tags": []
          },
          "execution_count": 150
        }
      ]
    },
    {
      "cell_type": "code",
      "metadata": {
        "id": "dhGb4wW44cEf",
        "colab": {
          "base_uri": "https://localhost:8080/"
        },
        "outputId": "61876a4c-612f-47b3-cd8e-43bb87a714c4"
      },
      "source": [
        "namelist"
      ],
      "execution_count": 151,
      "outputs": [
        {
          "output_type": "execute_result",
          "data": {
            "text/plain": [
              "['somsak', 'somchai', 'somsri']"
            ]
          },
          "metadata": {
            "tags": []
          },
          "execution_count": 151
        }
      ]
    },
    {
      "cell_type": "markdown",
      "metadata": {
        "id": "0ZAZbrrn4fNN"
      },
      "source": [
        "### insert เพิ่มสมาชิกใน list โดยต้องบอกตำแหน่งคือ index ทีจะแทรกข้อมูลไป"
      ]
    },
    {
      "cell_type": "code",
      "metadata": {
        "id": "q6JMK23k5EqH"
      },
      "source": [
        "namelist.insert(1,\"sommai\")"
      ],
      "execution_count": 152,
      "outputs": []
    },
    {
      "cell_type": "code",
      "metadata": {
        "id": "1t5jPfBI5Kwr",
        "colab": {
          "base_uri": "https://localhost:8080/"
        },
        "outputId": "218654d7-816c-4e8b-ec67-956d0d536992"
      },
      "source": [
        "namelist"
      ],
      "execution_count": 153,
      "outputs": [
        {
          "output_type": "execute_result",
          "data": {
            "text/plain": [
              "['somsak', 'sommai', 'somchai', 'somsri']"
            ]
          },
          "metadata": {
            "tags": []
          },
          "execution_count": 153
        }
      ]
    },
    {
      "cell_type": "markdown",
      "metadata": {
        "id": "WBB4DgAS5eJ0"
      },
      "source": [
        "### remove เป็นการนำค่าออกจาก list โดยใส่ค่าที่จะ remove ออกได้เลย"
      ]
    },
    {
      "cell_type": "code",
      "metadata": {
        "id": "QPbZaGdB5mYS"
      },
      "source": [
        "namelist.remove(\"sommai\")"
      ],
      "execution_count": 154,
      "outputs": []
    },
    {
      "cell_type": "code",
      "metadata": {
        "id": "uqa1vg-F57H2",
        "colab": {
          "base_uri": "https://localhost:8080/"
        },
        "outputId": "9d0bf562-e1dc-41d5-d6cf-68a106e73236"
      },
      "source": [
        "namelist"
      ],
      "execution_count": 155,
      "outputs": [
        {
          "output_type": "execute_result",
          "data": {
            "text/plain": [
              "['somsak', 'somchai', 'somsri']"
            ]
          },
          "metadata": {
            "tags": []
          },
          "execution_count": 155
        }
      ]
    },
    {
      "cell_type": "markdown",
      "metadata": {
        "id": "7Q7z2WXj6IFZ"
      },
      "source": [
        "### del คือลบค่าที่ต้องการออก"
      ]
    },
    {
      "cell_type": "code",
      "metadata": {
        "id": "j6p0LGUI6NMa"
      },
      "source": [
        "del namelist[1]"
      ],
      "execution_count": 156,
      "outputs": []
    },
    {
      "cell_type": "code",
      "metadata": {
        "id": "WseIaPys6Q9X",
        "colab": {
          "base_uri": "https://localhost:8080/"
        },
        "outputId": "b29d1623-eef2-4b2e-d887-47c45b3347fc"
      },
      "source": [
        "namelist"
      ],
      "execution_count": 157,
      "outputs": [
        {
          "output_type": "execute_result",
          "data": {
            "text/plain": [
              "['somsak', 'somsri']"
            ]
          },
          "metadata": {
            "tags": []
          },
          "execution_count": 157
        }
      ]
    },
    {
      "cell_type": "code",
      "metadata": {
        "id": "U9YYWPf16RQy"
      },
      "source": [
        "del namelist"
      ],
      "execution_count": 158,
      "outputs": []
    },
    {
      "cell_type": "code",
      "metadata": {
        "id": "xrnX7rog6VbX",
        "colab": {
          "base_uri": "https://localhost:8080/",
          "height": 164
        },
        "outputId": "459a80ff-67de-4d9f-f556-dbf93501cf4a"
      },
      "source": [
        "namelist"
      ],
      "execution_count": 159,
      "outputs": [
        {
          "output_type": "error",
          "ename": "NameError",
          "evalue": "ignored",
          "traceback": [
            "\u001b[0;31m---------------------------------------------------------------------------\u001b[0m",
            "\u001b[0;31mNameError\u001b[0m                                 Traceback (most recent call last)",
            "\u001b[0;32m<ipython-input-159-c4c5bb260a05>\u001b[0m in \u001b[0;36m<module>\u001b[0;34m()\u001b[0m\n\u001b[0;32m----> 1\u001b[0;31m \u001b[0mnamelist\u001b[0m\u001b[0;34m\u001b[0m\u001b[0;34m\u001b[0m\u001b[0m\n\u001b[0m",
            "\u001b[0;31mNameError\u001b[0m: name 'namelist' is not defined"
          ]
        }
      ]
    },
    {
      "cell_type": "markdown",
      "metadata": {
        "id": "hmL6Z0nT4jWv"
      },
      "source": [
        "## List Slicing"
      ]
    },
    {
      "cell_type": "code",
      "metadata": {
        "id": "YGG75knW4pYk"
      },
      "source": [
        "a = [0,1,2,3,4,5]"
      ],
      "execution_count": 160,
      "outputs": []
    },
    {
      "cell_type": "code",
      "metadata": {
        "id": "M1D065mP4uVw",
        "colab": {
          "base_uri": "https://localhost:8080/"
        },
        "outputId": "e352004a-24a0-46c6-8b67-bf02561649ae"
      },
      "source": [
        "a[1:5]"
      ],
      "execution_count": 161,
      "outputs": [
        {
          "output_type": "execute_result",
          "data": {
            "text/plain": [
              "[1, 2, 3, 4]"
            ]
          },
          "metadata": {
            "tags": []
          },
          "execution_count": 161
        }
      ]
    },
    {
      "cell_type": "code",
      "metadata": {
        "id": "rI7kAXpk44fe",
        "colab": {
          "base_uri": "https://localhost:8080/"
        },
        "outputId": "44079fda-0a8c-4812-c5e2-f39b4fbfc81d"
      },
      "source": [
        "a[2:]   #  จาก index ที่ 2  ไปหมด"
      ],
      "execution_count": 162,
      "outputs": [
        {
          "output_type": "execute_result",
          "data": {
            "text/plain": [
              "[2, 3, 4, 5]"
            ]
          },
          "metadata": {
            "tags": []
          },
          "execution_count": 162
        }
      ]
    },
    {
      "cell_type": "code",
      "metadata": {
        "id": "Mu-5_jP-48GW",
        "colab": {
          "base_uri": "https://localhost:8080/"
        },
        "outputId": "475f7167-1731-41e1-d54b-55575c208b62"
      },
      "source": [
        "a[:5] # จาก หน้าสุดถึง index ที่ 5"
      ],
      "execution_count": 163,
      "outputs": [
        {
          "output_type": "execute_result",
          "data": {
            "text/plain": [
              "[0, 1, 2, 3, 4]"
            ]
          },
          "metadata": {
            "tags": []
          },
          "execution_count": 163
        }
      ]
    },
    {
      "cell_type": "code",
      "metadata": {
        "id": "walOYZRJ4_kA",
        "colab": {
          "base_uri": "https://localhost:8080/"
        },
        "outputId": "c1a19863-ef95-421e-8daf-6eec14f5b0d7"
      },
      "source": [
        "a[:]  # เอาหมดเลย"
      ],
      "execution_count": 164,
      "outputs": [
        {
          "output_type": "execute_result",
          "data": {
            "text/plain": [
              "[0, 1, 2, 3, 4, 5]"
            ]
          },
          "metadata": {
            "tags": []
          },
          "execution_count": 164
        }
      ]
    },
    {
      "cell_type": "markdown",
      "metadata": {
        "id": "lPoLASJNPtkM"
      },
      "source": [
        "# List 2 มิติ"
      ]
    },
    {
      "cell_type": "code",
      "metadata": {
        "id": "6mICfkjLP1ZY"
      },
      "source": [
        "list2d = [[1,2,3],[4,5,6]]"
      ],
      "execution_count": 165,
      "outputs": []
    },
    {
      "cell_type": "code",
      "metadata": {
        "id": "2jsw2DNWP6t9",
        "colab": {
          "base_uri": "https://localhost:8080/"
        },
        "outputId": "1276f827-32bf-4245-ac90-2d93d7bc673b"
      },
      "source": [
        "list2d"
      ],
      "execution_count": 166,
      "outputs": [
        {
          "output_type": "execute_result",
          "data": {
            "text/plain": [
              "[[1, 2, 3], [4, 5, 6]]"
            ]
          },
          "metadata": {
            "tags": []
          },
          "execution_count": 166
        }
      ]
    },
    {
      "cell_type": "code",
      "metadata": {
        "id": "r4kVrPekP-r7",
        "colab": {
          "base_uri": "https://localhost:8080/"
        },
        "outputId": "46a13965-60ec-4f13-a2b0-82293fd9133c"
      },
      "source": [
        "list2d[1]"
      ],
      "execution_count": 168,
      "outputs": [
        {
          "output_type": "execute_result",
          "data": {
            "text/plain": [
              "[4, 5, 6]"
            ]
          },
          "metadata": {
            "tags": []
          },
          "execution_count": 168
        }
      ]
    },
    {
      "cell_type": "code",
      "metadata": {
        "id": "d7hnoM6-QDuU",
        "colab": {
          "base_uri": "https://localhost:8080/"
        },
        "outputId": "339a44fe-c794-40ca-c329-129ef4f4d030"
      },
      "source": [
        "list2d[0]"
      ],
      "execution_count": 169,
      "outputs": [
        {
          "output_type": "execute_result",
          "data": {
            "text/plain": [
              "[1, 2, 3]"
            ]
          },
          "metadata": {
            "tags": []
          },
          "execution_count": 169
        }
      ]
    },
    {
      "cell_type": "code",
      "metadata": {
        "id": "9dDrN0QmQIh4",
        "colab": {
          "base_uri": "https://localhost:8080/"
        },
        "outputId": "06050478-3436-4815-a201-4a111ae12bca"
      },
      "source": [
        "list2d[1][2]"
      ],
      "execution_count": 170,
      "outputs": [
        {
          "output_type": "execute_result",
          "data": {
            "text/plain": [
              "6"
            ]
          },
          "metadata": {
            "tags": []
          },
          "execution_count": 170
        }
      ]
    },
    {
      "cell_type": "markdown",
      "metadata": {
        "id": "RcK9DtOPQR08"
      },
      "source": [
        "# List 3 มิติ"
      ]
    },
    {
      "cell_type": "code",
      "metadata": {
        "id": "qa4ZWCGFQQ9A"
      },
      "source": [
        "list3d = [[[1,2,3],[4,5,6]],[[7,8,9],[10,11,12]]]"
      ],
      "execution_count": 171,
      "outputs": []
    },
    {
      "cell_type": "code",
      "metadata": {
        "id": "gbpHq8qdQrSd",
        "colab": {
          "base_uri": "https://localhost:8080/"
        },
        "outputId": "a111bf0b-f716-48c9-e88f-da1b542dd711"
      },
      "source": [
        "list3d"
      ],
      "execution_count": 172,
      "outputs": [
        {
          "output_type": "execute_result",
          "data": {
            "text/plain": [
              "[[[1, 2, 3], [4, 5, 6]], [[7, 8, 9], [10, 11, 12]]]"
            ]
          },
          "metadata": {
            "tags": []
          },
          "execution_count": 172
        }
      ]
    },
    {
      "cell_type": "code",
      "metadata": {
        "id": "M6dCYGkdQoiX",
        "colab": {
          "base_uri": "https://localhost:8080/"
        },
        "outputId": "98eea023-2013-4402-8e36-ffaaf3056205"
      },
      "source": [
        "list3d[0]"
      ],
      "execution_count": 173,
      "outputs": [
        {
          "output_type": "execute_result",
          "data": {
            "text/plain": [
              "[[1, 2, 3], [4, 5, 6]]"
            ]
          },
          "metadata": {
            "tags": []
          },
          "execution_count": 173
        }
      ]
    },
    {
      "cell_type": "code",
      "metadata": {
        "id": "IDseOrpGQ8Av",
        "colab": {
          "base_uri": "https://localhost:8080/"
        },
        "outputId": "bf98f1e6-e72b-4dac-cef9-a4ab52e2d99e"
      },
      "source": [
        "list3d[1]"
      ],
      "execution_count": 174,
      "outputs": [
        {
          "output_type": "execute_result",
          "data": {
            "text/plain": [
              "[[7, 8, 9], [10, 11, 12]]"
            ]
          },
          "metadata": {
            "tags": []
          },
          "execution_count": 174
        }
      ]
    },
    {
      "cell_type": "code",
      "metadata": {
        "id": "WpMCzcOnQ_7b",
        "colab": {
          "base_uri": "https://localhost:8080/"
        },
        "outputId": "f351965a-d670-4203-aa70-b415e8db45ae"
      },
      "source": [
        "list3d[1][0]"
      ],
      "execution_count": 175,
      "outputs": [
        {
          "output_type": "execute_result",
          "data": {
            "text/plain": [
              "[7, 8, 9]"
            ]
          },
          "metadata": {
            "tags": []
          },
          "execution_count": 175
        }
      ]
    },
    {
      "cell_type": "code",
      "metadata": {
        "id": "W8nJLe1SRDOx",
        "colab": {
          "base_uri": "https://localhost:8080/"
        },
        "outputId": "6a86941d-fa59-41c7-f6d2-5129798351ea"
      },
      "source": [
        "list3d[1][0][2]"
      ],
      "execution_count": 176,
      "outputs": [
        {
          "output_type": "execute_result",
          "data": {
            "text/plain": [
              "9"
            ]
          },
          "metadata": {
            "tags": []
          },
          "execution_count": 176
        }
      ]
    },
    {
      "cell_type": "markdown",
      "metadata": {
        "id": "d5q65CsV6WdX"
      },
      "source": [
        "## ชนิดของข้อมูล \n",
        "#5.Tuple\n",
        "\n",
        "\n",
        "- ทูเปิล (tuple) คือ ลิสต์รายการของข้อมูลอีกแบบหนึ่ง\n",
        "- tuple ใช้สัญลักษณ์ `( )` คั่นด้วยเครื่องหมายคอมมา `,`\n",
        "- tuple คล้าย list ทุกอย่าง\n",
        "- แต่ tuple มีคุณสมบัติอย่างหนึ่งคือ immutable ซึ่งไม่สามารถเปลี่ยนสมาชิกข้างในได้\n",
        "- ข้อดีของ tuple คือ การเก็บข้อมูลจะใช้ขนาดน้อยกว่า list\n",
        "เพราะฉะนั้นถ้าเราต้องการเก็บข้อมูลเป็นแบบค่าคงที่ ไม่มีการเปลี่ยนแปลงเราจะใช้ tuple\n",
        "\n"
      ]
    },
    {
      "cell_type": "code",
      "metadata": {
        "id": "luNX_zRw62c0"
      },
      "source": [
        "a = (1,3,5,7,9)"
      ],
      "execution_count": 177,
      "outputs": []
    },
    {
      "cell_type": "code",
      "metadata": {
        "id": "oHXZOTsh68pd",
        "colab": {
          "base_uri": "https://localhost:8080/"
        },
        "outputId": "7b727b4a-e9a7-47eb-e841-6a2a51a0d26c"
      },
      "source": [
        "a[0]"
      ],
      "execution_count": 178,
      "outputs": [
        {
          "output_type": "execute_result",
          "data": {
            "text/plain": [
              "1"
            ]
          },
          "metadata": {
            "tags": []
          },
          "execution_count": 178
        }
      ]
    },
    {
      "cell_type": "code",
      "metadata": {
        "id": "Utkx1aGd7ACK",
        "colab": {
          "base_uri": "https://localhost:8080/",
          "height": 164
        },
        "outputId": "e539e5f7-3311-45ba-d43f-b423231f3cb8"
      },
      "source": [
        "a[0] = 2"
      ],
      "execution_count": 179,
      "outputs": [
        {
          "output_type": "error",
          "ename": "TypeError",
          "evalue": "ignored",
          "traceback": [
            "\u001b[0;31m---------------------------------------------------------------------------\u001b[0m",
            "\u001b[0;31mTypeError\u001b[0m                                 Traceback (most recent call last)",
            "\u001b[0;32m<ipython-input-179-fa1ba3f7cc8f>\u001b[0m in \u001b[0;36m<module>\u001b[0;34m()\u001b[0m\n\u001b[0;32m----> 1\u001b[0;31m \u001b[0ma\u001b[0m\u001b[0;34m[\u001b[0m\u001b[0;36m0\u001b[0m\u001b[0;34m]\u001b[0m \u001b[0;34m=\u001b[0m \u001b[0;36m2\u001b[0m\u001b[0;34m\u001b[0m\u001b[0;34m\u001b[0m\u001b[0m\n\u001b[0m",
            "\u001b[0;31mTypeError\u001b[0m: 'tuple' object does not support item assignment"
          ]
        }
      ]
    },
    {
      "cell_type": "markdown",
      "metadata": {
        "id": "l17QMtTP8vgH"
      },
      "source": [
        "### Excercise จงสร้าง a ให้เป็นแบบ tuple ที่มีสมาชิก 10,20,30,40"
      ]
    },
    {
      "cell_type": "code",
      "metadata": {
        "id": "BTAZWWF18uZ1"
      },
      "source": [
        "a = (10,20,30,40)"
      ],
      "execution_count": 180,
      "outputs": []
    },
    {
      "cell_type": "markdown",
      "metadata": {
        "id": "7nanWeNq9Cke"
      },
      "source": [
        "### จงเรียกสมาชิก a ใน index ที่ 2"
      ]
    },
    {
      "cell_type": "code",
      "metadata": {
        "id": "WXdfsTvJ9JUx",
        "colab": {
          "base_uri": "https://localhost:8080/"
        },
        "outputId": "a0bb45f9-b864-4183-e33b-b36021e09e5d"
      },
      "source": [
        "a[2]"
      ],
      "execution_count": 181,
      "outputs": [
        {
          "output_type": "execute_result",
          "data": {
            "text/plain": [
              "30"
            ]
          },
          "metadata": {
            "tags": []
          },
          "execution_count": 181
        }
      ]
    },
    {
      "cell_type": "markdown",
      "metadata": {
        "id": "5Uy57aXEA1WC"
      },
      "source": [
        "## ชนิดของข้อมูล \n",
        "#ุ6.Dictionary\n",
        "\n",
        "\n",
        "- ดิคชันนารี (dictionary) คือ ลิสต์รายการของข้อมูลอีกแบบหนึ่ง\n",
        "- dictionary ใช้สัญลักษณ์ `{ }` คั่นด้วยเครื่องหมายคอมมา `,`\n",
        "- dictionary คล้ายกับ list เพียงแต่ index จะเป็น keys และค่าที่เก็บคือ values\n"
      ]
    },
    {
      "cell_type": "code",
      "metadata": {
        "id": "m7FigegcCgtr"
      },
      "source": [
        "lizadict = {\"name\":\"liza\",\"surname\":\"manobal\",\"age\":23}"
      ],
      "execution_count": 182,
      "outputs": []
    },
    {
      "cell_type": "code",
      "metadata": {
        "id": "hgMa4zqC68Yz",
        "colab": {
          "base_uri": "https://localhost:8080/"
        },
        "outputId": "6b5ee47d-3692-41c1-c783-a70bec8e8a07"
      },
      "source": [
        "lizadict"
      ],
      "execution_count": 183,
      "outputs": [
        {
          "output_type": "execute_result",
          "data": {
            "text/plain": [
              "{'age': 23, 'name': 'liza', 'surname': 'manobal'}"
            ]
          },
          "metadata": {
            "tags": []
          },
          "execution_count": 183
        }
      ]
    },
    {
      "cell_type": "code",
      "metadata": {
        "id": "GfNsv9uLDFBA",
        "colab": {
          "base_uri": "https://localhost:8080/"
        },
        "outputId": "e62aba88-4aef-4238-ad28-dab71d8a5223"
      },
      "source": [
        "lizadict['age']"
      ],
      "execution_count": 192,
      "outputs": [
        {
          "output_type": "execute_result",
          "data": {
            "text/plain": [
              "23"
            ]
          },
          "metadata": {
            "tags": []
          },
          "execution_count": 192
        }
      ]
    },
    {
      "cell_type": "code",
      "metadata": {
        "id": "TAbTNrQZDIhL",
        "colab": {
          "base_uri": "https://localhost:8080/",
          "height": 34
        },
        "outputId": "2f3d4b78-e88d-4ccd-8fac-15c06efb14bc"
      },
      "source": [
        "lizadict[\"surname\"]"
      ],
      "execution_count": 185,
      "outputs": [
        {
          "output_type": "execute_result",
          "data": {
            "application/vnd.google.colaboratory.intrinsic+json": {
              "type": "string"
            },
            "text/plain": [
              "'manobal'"
            ]
          },
          "metadata": {
            "tags": []
          },
          "execution_count": 185
        }
      ]
    },
    {
      "cell_type": "code",
      "metadata": {
        "id": "4ofFELGyDQxp",
        "colab": {
          "base_uri": "https://localhost:8080/"
        },
        "outputId": "adb9021f-7c42-4f3d-e468-fa19041dd00e"
      },
      "source": [
        "lizadict[\"age\"]"
      ],
      "execution_count": 186,
      "outputs": [
        {
          "output_type": "execute_result",
          "data": {
            "text/plain": [
              "23"
            ]
          },
          "metadata": {
            "tags": []
          },
          "execution_count": 186
        }
      ]
    },
    {
      "cell_type": "code",
      "metadata": {
        "id": "q5-bEV4iDTo0"
      },
      "source": [
        "lizadict[\"career\"] = \"singer\""
      ],
      "execution_count": 187,
      "outputs": []
    },
    {
      "cell_type": "code",
      "metadata": {
        "id": "duMn_2YcDegQ",
        "colab": {
          "base_uri": "https://localhost:8080/"
        },
        "outputId": "f1593249-8e32-40d9-a3c4-3891f0ff2347"
      },
      "source": [
        "lizadict"
      ],
      "execution_count": 188,
      "outputs": [
        {
          "output_type": "execute_result",
          "data": {
            "text/plain": [
              "{'age': 23, 'career': 'singer', 'name': 'liza', 'surname': 'manobal'}"
            ]
          },
          "metadata": {
            "tags": []
          },
          "execution_count": 188
        }
      ]
    },
    {
      "cell_type": "markdown",
      "metadata": {
        "id": "4_gTfvFYEYox"
      },
      "source": [
        "## ชนิดของข้อมูล \n",
        "#ุ6.Set\n",
        "\n",
        "\n",
        "- เซ็ท (set) คือ ลิสต์รายการของข้อมูลอีกแบบหนึ่ง\n",
        "- set ใช้สัญลักษณ์ `{ }` คั่นด้วยเครื่องหมายคอมมา `,`\n",
        "- set ไม่มีการเก็บเป็น index \n",
        "- คุณสมบัติของ set ได้แก่ union ,intersect ,complement\n",
        "- ข้อดีของ set คือกรองข้อมูลที่ซ้ำกัน"
      ]
    },
    {
      "cell_type": "code",
      "metadata": {
        "id": "ObIm9IDeFC6L"
      },
      "source": [
        "seta = {1,3,2,3,5,3,2}"
      ],
      "execution_count": 193,
      "outputs": []
    },
    {
      "cell_type": "code",
      "metadata": {
        "id": "NmQzL6L7FH_6",
        "colab": {
          "base_uri": "https://localhost:8080/"
        },
        "outputId": "d2d3ddaa-b3ac-4b81-f526-8c1a310df35a"
      },
      "source": [
        "print(seta)"
      ],
      "execution_count": 194,
      "outputs": [
        {
          "output_type": "stream",
          "text": [
            "{1, 2, 3, 5}\n"
          ],
          "name": "stdout"
        }
      ]
    },
    {
      "cell_type": "markdown",
      "metadata": {
        "id": "p-t9ndlaFTo_"
      },
      "source": [
        "#Function ฟังก์ชั่น\n",
        "##แบ่งเป็น 2 แบบคือ<br>\n",
        "##1. แบบไม่รับค่า<br>\n",
        "##2. แบบรับค่า<br>\n",
        "###--- 2.1 ไม่มีการรีเทิร์นค่ากลับ<br>\n",
        "###---   2.2 มีการรีเทิร์นค่ากลับ<br>\n",
        "\n",
        "\n",
        "\n"
      ]
    },
    {
      "cell_type": "markdown",
      "metadata": {
        "id": "5NwSZR2BF8az"
      },
      "source": [
        "##Funtion แบบที่ 1 ไม่มีการรับค่า\n",
        "วิธีการสร้างฟังก์ชั่น มีคำว่า def ตามด้วยชื่อฟังก์ชั่น ตามด้วย : <br>\n",
        "แล้วตามด้วย operation ที่ต้องการให้ทำงานตามฟังก์ชั่นนั้น\n",
        "\n",
        "วิธีการเรียกฟังก์ชั่นคือ เรียกชื่อ ฟังก์ชั่นเลย"
      ]
    },
    {
      "cell_type": "code",
      "metadata": {
        "id": "lmzmva2fFeCS"
      },
      "source": [
        "def helloworld():           # def  from 'define'\n",
        "  print(\"hello world\")"
      ],
      "execution_count": 197,
      "outputs": []
    },
    {
      "cell_type": "code",
      "metadata": {
        "id": "IYPGrjQqGHrI",
        "colab": {
          "base_uri": "https://localhost:8080/"
        },
        "outputId": "9f8c6f9e-5c41-4f19-dc0f-aa14c59371c4"
      },
      "source": [
        "helloworld()"
      ],
      "execution_count": 196,
      "outputs": [
        {
          "output_type": "stream",
          "text": [
            "hello world\n"
          ],
          "name": "stdout"
        }
      ]
    },
    {
      "cell_type": "markdown",
      "metadata": {
        "id": "5irU5OFpDDar"
      },
      "source": [
        "##Function แบบที่ 2 แบบรับค่า "
      ]
    },
    {
      "cell_type": "markdown",
      "metadata": {
        "id": "34a0i4_3Ga_X"
      },
      "source": [
        "##Function แบบที่ 2.1 แบบรับค่า แต่ไม่มีการรีเทิร์นค่ากลับ"
      ]
    },
    {
      "cell_type": "code",
      "metadata": {
        "id": "nclPEJUlGsXI"
      },
      "source": [
        "def add2numbers(x,y):\n",
        "  print(x+y)"
      ],
      "execution_count": 198,
      "outputs": []
    },
    {
      "cell_type": "code",
      "metadata": {
        "id": "16PyF01IG0YQ",
        "colab": {
          "base_uri": "https://localhost:8080/"
        },
        "outputId": "6b738621-8c9c-4575-9e95-f5089fdc9774"
      },
      "source": [
        "add2numbers(4,5)"
      ],
      "execution_count": 199,
      "outputs": [
        {
          "output_type": "stream",
          "text": [
            "9\n"
          ],
          "name": "stdout"
        }
      ]
    },
    {
      "cell_type": "markdown",
      "metadata": {
        "id": "Lfll2meqHPq7"
      },
      "source": [
        "##Function แบบที่ 2.2 แบบรับค่า และมีการรีเทิร์นค่ากลับ"
      ]
    },
    {
      "cell_type": "code",
      "metadata": {
        "id": "e4bdxoAGHWij"
      },
      "source": [
        "def mul2numbers(x,y):\n",
        "  z = x * y\n",
        "  return(z)"
      ],
      "execution_count": 200,
      "outputs": []
    },
    {
      "cell_type": "code",
      "metadata": {
        "id": "IFC8XPRJHfze"
      },
      "source": [
        "a = mul2numbers(2,5)"
      ],
      "execution_count": 201,
      "outputs": []
    },
    {
      "cell_type": "code",
      "metadata": {
        "id": "fBRrPV9xHqVL",
        "colab": {
          "base_uri": "https://localhost:8080/"
        },
        "outputId": "5ed1c228-718d-442b-8b54-032b00c0b7a0"
      },
      "source": [
        "print(a)"
      ],
      "execution_count": 202,
      "outputs": [
        {
          "output_type": "stream",
          "text": [
            "10\n"
          ],
          "name": "stdout"
        }
      ]
    },
    {
      "cell_type": "markdown",
      "metadata": {
        "id": "eM-LAvZJHz-i"
      },
      "source": [
        "##Excercise ให้สร้างฟังก์ชันในการคำนวนพื้นที่ของวงกลม โดยการรับค่า รัศมี ของวงกลม และทำการรีเทิร์นค่าพื้นที่ที่คำนวนแล้วกลับมา (ค่า pi = 3.14)"
      ]
    },
    {
      "cell_type": "code",
      "metadata": {
        "id": "kzNcinCcDN04"
      },
      "source": [
        "def circlearea(r):\n",
        "  area = 3.14*r**2\n",
        "  return(area)"
      ],
      "execution_count": 203,
      "outputs": []
    },
    {
      "cell_type": "markdown",
      "metadata": {
        "id": "Ak2zkZILd4BS"
      },
      "source": [
        "## ให้ เรียกฟังก์ชั่น โดยส่งค่า รัศมี = 10\n",
        "##แล้วพิมพ์ออกมาดู"
      ]
    },
    {
      "cell_type": "code",
      "metadata": {
        "id": "hyucpOnYDOLJ"
      },
      "source": [
        "c = circlearea(10)"
      ],
      "execution_count": 204,
      "outputs": []
    },
    {
      "cell_type": "code",
      "metadata": {
        "id": "cQLYHH9M9-rQ",
        "colab": {
          "base_uri": "https://localhost:8080/"
        },
        "outputId": "6a893db4-c969-4a8f-cb86-7c91539d80bc"
      },
      "source": [
        "print(c)"
      ],
      "execution_count": 205,
      "outputs": [
        {
          "output_type": "stream",
          "text": [
            "314.0\n"
          ],
          "name": "stdout"
        }
      ]
    },
    {
      "cell_type": "markdown",
      "metadata": {
        "id": "kW62Ifwf-FQ2"
      },
      "source": [
        "# Excercise \n",
        "###ให้สร้างฟังก์ชั่นในการคำนวนพื้นที่ของสามเหลี่ยม โดยที่ต้องรับค่าสองค่าคือ ฐาน และ ความสูง\n",
        "###และทำการรีเทิร์นค่าพื้นทีที่คำนวนมา"
      ]
    },
    {
      "cell_type": "code",
      "metadata": {
        "id": "9PfoSqTL-hgG"
      },
      "source": [
        "def triangle(base,height):\n",
        "  area = (1/2)*base*height\n",
        "  return area"
      ],
      "execution_count": 206,
      "outputs": []
    },
    {
      "cell_type": "markdown",
      "metadata": {
        "id": "UF6VOX1e_RsP"
      },
      "source": [
        "## จงส่งค่าความยาวฐาน = 4 ความสูง 5 ไปยังฟัง์ชั่นข้างบน แล้วทำการพิมพ์ค่าที่ส่งคืนออกมาที่เป็นพื้นที่ของสามเหลี่ยม แล้วพิมพ์ค่าพื้นที่ออกมาที่หน้าจอ"
      ]
    },
    {
      "cell_type": "code",
      "metadata": {
        "id": "1c6wTvUi__Pu"
      },
      "source": [
        "t = triangle(4,5)"
      ],
      "execution_count": 207,
      "outputs": []
    },
    {
      "cell_type": "code",
      "metadata": {
        "id": "21ftlqDLAYPo",
        "colab": {
          "base_uri": "https://localhost:8080/"
        },
        "outputId": "aec4b32a-59cc-4cf5-b54f-d2886a766f83"
      },
      "source": [
        "print(t)"
      ],
      "execution_count": 210,
      "outputs": [
        {
          "output_type": "stream",
          "text": [
            "10.0\n"
          ],
          "name": "stdout"
        }
      ]
    },
    {
      "cell_type": "markdown",
      "metadata": {
        "id": "Vw5YxAcm4VXt"
      },
      "source": [
        "##Print format\n",
        "- เราสามารถจัดรูปแบบของข้อความก่อนที่จะแสดงผลได้\n",
        "\n",
        "- วิธีการคือ เราจะใช้สัญลักษณ์ `f` นำหน้าข้อความที่เราต้องการจะให้จัดรูปแบบ ซึ่งสัญลักษณ์ `f` ย่อมาจากคำว่า format (รูปแบบ) นั่นเอง\n",
        "\n",
        "- ข้อดีของการใช้สัญลักษณ์ `f` นำหน้าสตริงก็คือ เราสามารถแทรกค่าตัวแปรลงไปตำแหน่งใดของข้อความก็ได้ เพียงแค่ครอบตัวแปรด้วยปีกกา `{ }` เท่านั้น"
      ]
    },
    {
      "cell_type": "code",
      "metadata": {
        "id": "iroxkYFH44JM",
        "colab": {
          "base_uri": "https://localhost:8080/"
        },
        "outputId": "a71b1c1b-7a81-4e09-aff5-a62424ca4507"
      },
      "source": [
        "name = 'Surasak'\n",
        "surname = 'Phutthapol'\n",
        "age = 25\n",
        "\n",
        "print(f'My name is {name} , My surname is {surname} and I am {age} years old')"
      ],
      "execution_count": 211,
      "outputs": [
        {
          "output_type": "stream",
          "text": [
            "My name is Surasak , My surname is Phutthapol and I am 25 years old\n"
          ],
          "name": "stdout"
        }
      ]
    },
    {
      "cell_type": "markdown",
      "metadata": {
        "id": "SNfgpAnY-bMr"
      },
      "source": [
        "# Excercise\n",
        "## ให้ ตัวแปรสองตัวคือ temp กับ humid มีค่าดังตัวอย่าง\n",
        "temp = 25<br>\n",
        "humid = 80<br>\n",
        "จง print f โดยให้พิมพ์ออกมาบนหน้าจอว่า<br>\n",
        "temperature = 25 and humidity = 80<br>"
      ]
    },
    {
      "cell_type": "code",
      "metadata": {
        "id": "6pFI2zly--Wr"
      },
      "source": [
        "temp = 25"
      ],
      "execution_count": 212,
      "outputs": []
    },
    {
      "cell_type": "code",
      "metadata": {
        "id": "wIoNMLaz_WH9"
      },
      "source": [
        "humid = 80"
      ],
      "execution_count": 213,
      "outputs": []
    },
    {
      "cell_type": "code",
      "metadata": {
        "id": "-joCTbiS_WXH",
        "colab": {
          "base_uri": "https://localhost:8080/"
        },
        "outputId": "1a192533-8515-4cb8-ed7b-94a107d7f50f"
      },
      "source": [
        "print(f\"temperature = {temp} and humidity = {humid}\")"
      ],
      "execution_count": 214,
      "outputs": [
        {
          "output_type": "stream",
          "text": [
            "temperature = 25 and humidity = 80\n"
          ],
          "name": "stdout"
        }
      ]
    },
    {
      "cell_type": "code",
      "metadata": {
        "id": "UQaz7KqeA7SH"
      },
      "source": [
        ""
      ],
      "execution_count": null,
      "outputs": []
    }
  ]
}